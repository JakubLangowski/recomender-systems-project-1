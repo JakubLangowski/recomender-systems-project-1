{
 "cells": [
  {
   "cell_type": "code",
   "execution_count": 1,
   "id": "alike-morgan",
   "metadata": {},
   "outputs": [],
   "source": [
    "%matplotlib inline\n",
    "%load_ext autoreload\n",
    "%autoreload 2\n",
    "\n",
    "import numpy as np\n",
    "import pandas as pd\n",
    "from IPython.display import display\n",
    "\n",
    "# Fix the dying kernel problem (only a problem in some installations - you can remove it, if it works without it)\n",
    "import os\n",
    "from typing import List, Tuple\n",
    "\n",
    "seed = 6789\n",
    "\n",
    "os.environ['KMP_DUPLICATE_LIB_OK'] = 'True'"
   ]
  },
  {
   "cell_type": "markdown",
   "id": "blessed-knitting",
   "metadata": {},
   "source": [
    "# Load the dataset for recommenders"
   ]
  },
  {
   "cell_type": "code",
   "execution_count": 2,
   "id": "victorian-bottom",
   "metadata": {},
   "outputs": [
    {
     "data": {
      "text/plain": "    user_id  item_id            term length_of_stay_bucket rate_plan  \\\n0         1        0  WinterVacation                 [2-3]  Standard   \n1         2        1  WinterVacation                 [2-3]  Standard   \n2         3        2  WinterVacation                 [2-3]  Standard   \n3         4        3  WinterVacation                 [4-7]  Standard   \n4         5        4  WinterVacation                 [4-7]  Standard   \n5         6        5          Easter                 [4-7]  Standard   \n6         7        6       OffSeason                 [2-3]  Standard   \n7         8        7      HighSeason                 [2-3]  Standard   \n8         9        8      HighSeason                 [2-3]  Standard   \n9         8        7      HighSeason                 [2-3]  Standard   \n10        8        7      HighSeason                 [2-3]  Standard   \n11       10        9      HighSeason                 [2-3]  Standard   \n12       11        9      HighSeason                 [2-3]  Standard   \n13       12       10      HighSeason               [8-inf]  Standard   \n14       15       11       LowSeason                 [2-3]  Standard   \n\n   room_segment n_people_bucket weekend_stay  \n0     [260-360]         [5-inf]         True  \n1     [160-260]           [3-4]         True  \n2     [160-260]           [2-2]        False  \n3     [160-260]           [3-4]         True  \n4       [0-160]           [2-2]         True  \n5     [260-360]         [5-inf]         True  \n6     [260-360]         [5-inf]         True  \n7     [160-260]           [1-1]         True  \n8       [0-160]           [1-1]         True  \n9     [160-260]           [1-1]         True  \n10    [160-260]           [1-1]         True  \n11    [160-260]           [3-4]         True  \n12    [160-260]           [3-4]         True  \n13    [160-260]           [3-4]         True  \n14    [160-260]         [5-inf]         True  ",
      "text/html": "<div>\n<style scoped>\n    .dataframe tbody tr th:only-of-type {\n        vertical-align: middle;\n    }\n\n    .dataframe tbody tr th {\n        vertical-align: top;\n    }\n\n    .dataframe thead th {\n        text-align: right;\n    }\n</style>\n<table border=\"1\" class=\"dataframe\">\n  <thead>\n    <tr style=\"text-align: right;\">\n      <th></th>\n      <th>user_id</th>\n      <th>item_id</th>\n      <th>term</th>\n      <th>length_of_stay_bucket</th>\n      <th>rate_plan</th>\n      <th>room_segment</th>\n      <th>n_people_bucket</th>\n      <th>weekend_stay</th>\n    </tr>\n  </thead>\n  <tbody>\n    <tr>\n      <th>0</th>\n      <td>1</td>\n      <td>0</td>\n      <td>WinterVacation</td>\n      <td>[2-3]</td>\n      <td>Standard</td>\n      <td>[260-360]</td>\n      <td>[5-inf]</td>\n      <td>True</td>\n    </tr>\n    <tr>\n      <th>1</th>\n      <td>2</td>\n      <td>1</td>\n      <td>WinterVacation</td>\n      <td>[2-3]</td>\n      <td>Standard</td>\n      <td>[160-260]</td>\n      <td>[3-4]</td>\n      <td>True</td>\n    </tr>\n    <tr>\n      <th>2</th>\n      <td>3</td>\n      <td>2</td>\n      <td>WinterVacation</td>\n      <td>[2-3]</td>\n      <td>Standard</td>\n      <td>[160-260]</td>\n      <td>[2-2]</td>\n      <td>False</td>\n    </tr>\n    <tr>\n      <th>3</th>\n      <td>4</td>\n      <td>3</td>\n      <td>WinterVacation</td>\n      <td>[4-7]</td>\n      <td>Standard</td>\n      <td>[160-260]</td>\n      <td>[3-4]</td>\n      <td>True</td>\n    </tr>\n    <tr>\n      <th>4</th>\n      <td>5</td>\n      <td>4</td>\n      <td>WinterVacation</td>\n      <td>[4-7]</td>\n      <td>Standard</td>\n      <td>[0-160]</td>\n      <td>[2-2]</td>\n      <td>True</td>\n    </tr>\n    <tr>\n      <th>5</th>\n      <td>6</td>\n      <td>5</td>\n      <td>Easter</td>\n      <td>[4-7]</td>\n      <td>Standard</td>\n      <td>[260-360]</td>\n      <td>[5-inf]</td>\n      <td>True</td>\n    </tr>\n    <tr>\n      <th>6</th>\n      <td>7</td>\n      <td>6</td>\n      <td>OffSeason</td>\n      <td>[2-3]</td>\n      <td>Standard</td>\n      <td>[260-360]</td>\n      <td>[5-inf]</td>\n      <td>True</td>\n    </tr>\n    <tr>\n      <th>7</th>\n      <td>8</td>\n      <td>7</td>\n      <td>HighSeason</td>\n      <td>[2-3]</td>\n      <td>Standard</td>\n      <td>[160-260]</td>\n      <td>[1-1]</td>\n      <td>True</td>\n    </tr>\n    <tr>\n      <th>8</th>\n      <td>9</td>\n      <td>8</td>\n      <td>HighSeason</td>\n      <td>[2-3]</td>\n      <td>Standard</td>\n      <td>[0-160]</td>\n      <td>[1-1]</td>\n      <td>True</td>\n    </tr>\n    <tr>\n      <th>9</th>\n      <td>8</td>\n      <td>7</td>\n      <td>HighSeason</td>\n      <td>[2-3]</td>\n      <td>Standard</td>\n      <td>[160-260]</td>\n      <td>[1-1]</td>\n      <td>True</td>\n    </tr>\n    <tr>\n      <th>10</th>\n      <td>8</td>\n      <td>7</td>\n      <td>HighSeason</td>\n      <td>[2-3]</td>\n      <td>Standard</td>\n      <td>[160-260]</td>\n      <td>[1-1]</td>\n      <td>True</td>\n    </tr>\n    <tr>\n      <th>11</th>\n      <td>10</td>\n      <td>9</td>\n      <td>HighSeason</td>\n      <td>[2-3]</td>\n      <td>Standard</td>\n      <td>[160-260]</td>\n      <td>[3-4]</td>\n      <td>True</td>\n    </tr>\n    <tr>\n      <th>12</th>\n      <td>11</td>\n      <td>9</td>\n      <td>HighSeason</td>\n      <td>[2-3]</td>\n      <td>Standard</td>\n      <td>[160-260]</td>\n      <td>[3-4]</td>\n      <td>True</td>\n    </tr>\n    <tr>\n      <th>13</th>\n      <td>12</td>\n      <td>10</td>\n      <td>HighSeason</td>\n      <td>[8-inf]</td>\n      <td>Standard</td>\n      <td>[160-260]</td>\n      <td>[3-4]</td>\n      <td>True</td>\n    </tr>\n    <tr>\n      <th>14</th>\n      <td>15</td>\n      <td>11</td>\n      <td>LowSeason</td>\n      <td>[2-3]</td>\n      <td>Standard</td>\n      <td>[160-260]</td>\n      <td>[5-inf]</td>\n      <td>True</td>\n    </tr>\n  </tbody>\n</table>\n</div>"
     },
     "metadata": {},
     "output_type": "display_data"
    }
   ],
   "source": [
    "data_path = os.path.join(\"data\", \"hotel_data\")\n",
    "\n",
    "input_interactions_df = pd.read_csv(os.path.join(data_path, \"hotel_data_interactions_df.csv\"), index_col=0)\n",
    "\n",
    "base_item_features = ['term', 'length_of_stay_bucket', 'rate_plan', 'room_segment', 'n_people_bucket', 'weekend_stay']\n",
    "\n",
    "column_values_dict = {\n",
    "    'term': ['WinterVacation', 'Easter', 'OffSeason', 'HighSeason', 'LowSeason', 'MayLongWeekend', 'NewYear',\n",
    "             'Christmas'],\n",
    "    'length_of_stay_bucket': ['[0-1]', '[2-3]', '[4-7]', '[8-inf]'],\n",
    "    'rate_plan': ['Standard', 'Nonref'],\n",
    "    'room_segment': ['[0-160]', '[160-260]', '[260-360]', '[360-500]', '[500-900]'],\n",
    "    'n_people_bucket': ['[1-1]', '[2-2]', '[3-4]', '[5-inf]'],\n",
    "    'weekend_stay': ['True', 'False']\n",
    "}\n",
    "\n",
    "input_interactions_df['term'] = pd.Categorical(\n",
    "    input_interactions_df['term'], categories=column_values_dict['term'])\n",
    "input_interactions_df['length_of_stay_bucket'] = pd.Categorical(\n",
    "    input_interactions_df['length_of_stay_bucket'], categories=column_values_dict['length_of_stay_bucket'])\n",
    "input_interactions_df['rate_plan'] = pd.Categorical(\n",
    "    input_interactions_df['rate_plan'], categories=column_values_dict['rate_plan'])\n",
    "input_interactions_df['room_segment'] = pd.Categorical(\n",
    "    input_interactions_df['room_segment'], categories=column_values_dict['room_segment'])\n",
    "input_interactions_df['n_people_bucket'] = pd.Categorical(\n",
    "    input_interactions_df['n_people_bucket'], categories=column_values_dict['n_people_bucket'])\n",
    "input_interactions_df['weekend_stay'] = input_interactions_df['weekend_stay'].astype('str')\n",
    "input_interactions_df['weekend_stay'] = pd.Categorical(\n",
    "    input_interactions_df['weekend_stay'], categories=column_values_dict['weekend_stay'])\n",
    "\n",
    "display(input_interactions_df.head(15))"
   ]
  },
  {
   "cell_type": "markdown",
   "source": [
    "\n",
    "# Define user features based on reservations\n",
    "The content-based recommenders will be forecasting the probability of interaction between user and item based on user features vector and item features vector:\n",
    "\n",
    "<center>\n",
    "$$\n",
    "    r_{u, i} = f(user\\_features, item\\_features)\n",
    "$$\n",
    "</center>\n",
    "\n",
    "<span style=\"color:red\"><font size=\"4\">**Task:**</font></span><br>\n",
    "Design numerical user features based on user reservations. Code the following method which for a given interactions DataFrame (it will be used in the fit method of the recommender) returns a DataFrame with user_id and user features as well as a list with names of user features (this will be important to select the right columns for an ML algorithm). Remember to name the columns differently than item features which you will create in the next task. Validate your features on users with several interactions (sample user ids are already given below).\n",
    "\n",
    "Ideas for user features:\n",
    "- Find the vector of most popular feature values from all user reservations and encode every feature with one-hot encoding.\n",
    "- For every reservation feature calculate the probability distribution of its values among all user's reservations.\n",
    "- For numerical buckets (length_of_stay, room_segment, n_people) you can calculate the average value for every user from their reservations (you will have to map the buckets back to numerical values before averaging them).\n",
    "\n",
    "Remember that you will have to select the best features (with the highest explanatory power). Using all above features at once would make the number of variables too large for this dataset and would also introduce too much correlations between features.\n",
    "\n",
    "You can also prepare several versions of the\n",
    " method and test which works best in your recommender."
   ],
   "metadata": {
    "collapsed": false
   }
  },
  {
   "cell_type": "markdown",
   "id": "built-complaint",
   "metadata": {},
   "source": [
    "# Prepare numerical item features\n",
    "\n",
    "<span style=\"color:red\"><font size=\"4\">**Task:**</font></span><br>\n",
    "Code the prepare_items_df method which will be used in the recommender fit and recommend methods to map items to numerical features. This method should take the interactions_df DataFrame as input and return a DataFrame containing one record per item_id with item_id column and numerical item feature columns.\n",
    "\n",
    "You can try turning all item features into one-hot representations. You can use the get_dummies method from pandas. It will return the same columns on any dataset of interactions because the categorical variables with all possible values have been defined in the second cell in this notebook.\n",
    "\n",
    "You are welcome to design your own numerical item features, for instance based on numerical min and max values in buckets used as features."
   ]
  },
  {
   "cell_type": "code",
   "execution_count": 3,
   "outputs": [],
   "source": [
    "class FitDataToolkit:\n",
    "\n",
    "    @staticmethod\n",
    "    def most_popular_features(interactions_df: pd.DataFrame, n_most_popular_items):\n",
    "\n",
    "        most_popular = {\n",
    "            'term': list(interactions_df['term'].value_counts()[:n_most_popular_items].index),\n",
    "            'length_of_stay_bucket': list(interactions_df['length_of_stay_bucket'].value_counts()[:n_most_popular_items].index),\n",
    "            'room_segment': list(interactions_df['room_segment'].value_counts()[:n_most_popular_items].index),\n",
    "            'n_people_bucket': list(interactions_df['n_people_bucket'].value_counts()[:n_most_popular_items].index),\n",
    "        }\n",
    "\n",
    "        columns = []\n",
    "\n",
    "        for key, values in most_popular.items():\n",
    "            for value in values:\n",
    "                columns.append(key + \"_\" + value)\n",
    "\n",
    "        return columns\n",
    "\n",
    "    @staticmethod\n",
    "    def prepare_users_df(interactions_df: pd.DataFrame, n_most_popular_items: int = 4) -> Tuple[pd.DataFrame, List[str]]:\n",
    "\n",
    "        most_popular_cols = FitDataToolkit.most_popular_features(interactions_df, n_most_popular_items)\n",
    "        most_popular_cols.append(\"user_id\")\n",
    "        most_popular_cols.append(\"item_id\")\n",
    "\n",
    "        one_hot = pd.get_dummies(interactions_df, columns=['term', 'rate_plan', 'room_segment', 'n_people_bucket', 'length_of_stay_bucket', 'weekend_stay'])\n",
    "        all_cols = one_hot.columns\n",
    "        cols_to_drop = list(set(all_cols) - set(most_popular_cols))\n",
    "        one_hot = one_hot.drop(columns=cols_to_drop)\n",
    "\n",
    "        options = {}\n",
    "        for col in one_hot.columns:\n",
    "            if col == 'user_id' or col == 'item_id':\n",
    "                continue\n",
    "            else:\n",
    "                options[col] = 'sum'\n",
    "\n",
    "        one_hot = one_hot.groupby(['user_id']).agg(options)\n",
    "        one_hot = one_hot / one_hot.sum(axis=1).values.reshape(-1, 1)\n",
    "        one_hot: pd.DataFrame = one_hot.rename_axis(None, axis=1).fillna(0)\n",
    "        users_df = one_hot.add_prefix('user_')\n",
    "        user_features = list(users_df.columns)\n",
    "        users_df = users_df.reset_index()\n",
    "\n",
    "        return users_df, user_features\n",
    "\n",
    "    @staticmethod\n",
    "    def prepare_items_df(interactions_df: pd.DataFrame) -> Tuple[pd.DataFrame, List[str]]:\n",
    "        one_hot = pd.get_dummies(interactions_df, columns=['term', 'rate_plan', 'room_segment', 'length_of_stay_bucket', 'n_people_bucket', 'weekend_stay'])\n",
    "        options = {}\n",
    "        for col in one_hot.columns:\n",
    "            if col == 'user_id' or col == 'item_id':\n",
    "                continue\n",
    "            else:\n",
    "                options[col] = 'sum'\n",
    "        one_hot = one_hot.groupby(['item_id']).agg(options)\n",
    "        one_hot = one_hot / one_hot.sum(axis=1).values.reshape(-1, 1)\n",
    "        one_hot = one_hot.rename_axis(None, axis=1).fillna(0)\n",
    "        items_df = one_hot.add_prefix('item_')\n",
    "        item_features = list(items_df.columns)\n",
    "        items_df = items_df.reset_index()\n",
    "\n",
    "        return items_df, item_features\n"
   ],
   "metadata": {
    "collapsed": false,
    "pycharm": {
     "name": "#%%\n"
    }
   }
  },
  {
   "cell_type": "code",
   "execution_count": 4,
   "outputs": [
    {
     "data": {
      "text/plain": "       user_id  user_term_WinterVacation  user_term_OffSeason  \\\n0            1                  0.022727             0.170455   \n1            2                  0.250000             0.000000   \n2            3                  0.250000             0.000000   \n3            4                  0.250000             0.000000   \n4            5                  0.250000             0.000000   \n...        ...                       ...                  ...   \n13793    14498                  0.000000             0.250000   \n13794    14499                  0.000000             0.250000   \n13795    14500                  0.000000             0.000000   \n13796    14501                  0.000000             0.250000   \n13797    14502                  0.000000             0.250000   \n\n       user_term_HighSeason  user_term_LowSeason  user_room_segment_[0-160]  \\\n0                  0.022727             0.034091                       0.00   \n1                  0.000000             0.000000                       0.00   \n2                  0.000000             0.000000                       0.00   \n3                  0.000000             0.000000                       0.00   \n4                  0.000000             0.000000                       0.25   \n...                     ...                  ...                        ...   \n13793              0.000000             0.000000                       0.00   \n13794              0.000000             0.000000                       0.00   \n13795              0.000000             0.000000                       0.00   \n13796              0.000000             0.000000                       0.00   \n13797              0.000000             0.000000                       0.00   \n\n       user_room_segment_[160-260]  user_room_segment_[260-360]  \\\n0                         0.215909                     0.034091   \n1                         0.250000                     0.000000   \n2                         0.250000                     0.000000   \n3                         0.250000                     0.000000   \n4                         0.000000                     0.000000   \n...                            ...                          ...   \n13793                     0.250000                     0.000000   \n13794                     0.250000                     0.000000   \n13795                     0.000000                     0.333333   \n13796                     0.250000                     0.000000   \n13797                     0.000000                     0.250000   \n\n       user_room_segment_[360-500]  user_n_people_bucket_[1-1]  \\\n0                              0.0                        0.00   \n1                              0.0                        0.00   \n2                              0.0                        0.00   \n3                              0.0                        0.00   \n4                              0.0                        0.00   \n...                            ...                         ...   \n13793                          0.0                        0.25   \n13794                          0.0                        0.00   \n13795                          0.0                        0.00   \n13796                          0.0                        0.00   \n13797                          0.0                        0.00   \n\n       user_n_people_bucket_[2-2]  user_n_people_bucket_[3-4]  \\\n0                        0.181818                    0.045455   \n1                        0.000000                    0.250000   \n2                        0.250000                    0.000000   \n3                        0.000000                    0.250000   \n4                        0.250000                    0.000000   \n...                           ...                         ...   \n13793                    0.000000                    0.000000   \n13794                    0.250000                    0.000000   \n13795                    0.000000                    0.333333   \n13796                    0.000000                    0.250000   \n13797                    0.000000                    0.000000   \n\n       user_n_people_bucket_[5-inf]  user_length_of_stay_bucket_[0-1]  \\\n0                          0.022727                              0.00   \n1                          0.000000                              0.00   \n2                          0.000000                              0.00   \n3                          0.000000                              0.00   \n4                          0.000000                              0.00   \n...                             ...                               ...   \n13793                      0.000000                              0.00   \n13794                      0.000000                              0.00   \n13795                      0.000000                              0.00   \n13796                      0.000000                              0.00   \n13797                      0.250000                              0.25   \n\n       user_length_of_stay_bucket_[2-3]  user_length_of_stay_bucket_[4-7]  \\\n0                              0.147727                          0.102273   \n1                              0.250000                          0.000000   \n2                              0.250000                          0.000000   \n3                              0.000000                          0.250000   \n4                              0.000000                          0.250000   \n...                                 ...                               ...   \n13793                          0.250000                          0.000000   \n13794                          0.000000                          0.000000   \n13795                          0.333333                          0.000000   \n13796                          0.250000                          0.000000   \n13797                          0.000000                          0.000000   \n\n       user_length_of_stay_bucket_[8-inf]  \n0                                    0.00  \n1                                    0.00  \n2                                    0.00  \n3                                    0.00  \n4                                    0.00  \n...                                   ...  \n13793                                0.00  \n13794                                0.25  \n13795                                0.00  \n13796                                0.00  \n13797                                0.00  \n\n[13798 rows x 17 columns]",
      "text/html": "<div>\n<style scoped>\n    .dataframe tbody tr th:only-of-type {\n        vertical-align: middle;\n    }\n\n    .dataframe tbody tr th {\n        vertical-align: top;\n    }\n\n    .dataframe thead th {\n        text-align: right;\n    }\n</style>\n<table border=\"1\" class=\"dataframe\">\n  <thead>\n    <tr style=\"text-align: right;\">\n      <th></th>\n      <th>user_id</th>\n      <th>user_term_WinterVacation</th>\n      <th>user_term_OffSeason</th>\n      <th>user_term_HighSeason</th>\n      <th>user_term_LowSeason</th>\n      <th>user_room_segment_[0-160]</th>\n      <th>user_room_segment_[160-260]</th>\n      <th>user_room_segment_[260-360]</th>\n      <th>user_room_segment_[360-500]</th>\n      <th>user_n_people_bucket_[1-1]</th>\n      <th>user_n_people_bucket_[2-2]</th>\n      <th>user_n_people_bucket_[3-4]</th>\n      <th>user_n_people_bucket_[5-inf]</th>\n      <th>user_length_of_stay_bucket_[0-1]</th>\n      <th>user_length_of_stay_bucket_[2-3]</th>\n      <th>user_length_of_stay_bucket_[4-7]</th>\n      <th>user_length_of_stay_bucket_[8-inf]</th>\n    </tr>\n  </thead>\n  <tbody>\n    <tr>\n      <th>0</th>\n      <td>1</td>\n      <td>0.022727</td>\n      <td>0.170455</td>\n      <td>0.022727</td>\n      <td>0.034091</td>\n      <td>0.00</td>\n      <td>0.215909</td>\n      <td>0.034091</td>\n      <td>0.0</td>\n      <td>0.00</td>\n      <td>0.181818</td>\n      <td>0.045455</td>\n      <td>0.022727</td>\n      <td>0.00</td>\n      <td>0.147727</td>\n      <td>0.102273</td>\n      <td>0.00</td>\n    </tr>\n    <tr>\n      <th>1</th>\n      <td>2</td>\n      <td>0.250000</td>\n      <td>0.000000</td>\n      <td>0.000000</td>\n      <td>0.000000</td>\n      <td>0.00</td>\n      <td>0.250000</td>\n      <td>0.000000</td>\n      <td>0.0</td>\n      <td>0.00</td>\n      <td>0.000000</td>\n      <td>0.250000</td>\n      <td>0.000000</td>\n      <td>0.00</td>\n      <td>0.250000</td>\n      <td>0.000000</td>\n      <td>0.00</td>\n    </tr>\n    <tr>\n      <th>2</th>\n      <td>3</td>\n      <td>0.250000</td>\n      <td>0.000000</td>\n      <td>0.000000</td>\n      <td>0.000000</td>\n      <td>0.00</td>\n      <td>0.250000</td>\n      <td>0.000000</td>\n      <td>0.0</td>\n      <td>0.00</td>\n      <td>0.250000</td>\n      <td>0.000000</td>\n      <td>0.000000</td>\n      <td>0.00</td>\n      <td>0.250000</td>\n      <td>0.000000</td>\n      <td>0.00</td>\n    </tr>\n    <tr>\n      <th>3</th>\n      <td>4</td>\n      <td>0.250000</td>\n      <td>0.000000</td>\n      <td>0.000000</td>\n      <td>0.000000</td>\n      <td>0.00</td>\n      <td>0.250000</td>\n      <td>0.000000</td>\n      <td>0.0</td>\n      <td>0.00</td>\n      <td>0.000000</td>\n      <td>0.250000</td>\n      <td>0.000000</td>\n      <td>0.00</td>\n      <td>0.000000</td>\n      <td>0.250000</td>\n      <td>0.00</td>\n    </tr>\n    <tr>\n      <th>4</th>\n      <td>5</td>\n      <td>0.250000</td>\n      <td>0.000000</td>\n      <td>0.000000</td>\n      <td>0.000000</td>\n      <td>0.25</td>\n      <td>0.000000</td>\n      <td>0.000000</td>\n      <td>0.0</td>\n      <td>0.00</td>\n      <td>0.250000</td>\n      <td>0.000000</td>\n      <td>0.000000</td>\n      <td>0.00</td>\n      <td>0.000000</td>\n      <td>0.250000</td>\n      <td>0.00</td>\n    </tr>\n    <tr>\n      <th>...</th>\n      <td>...</td>\n      <td>...</td>\n      <td>...</td>\n      <td>...</td>\n      <td>...</td>\n      <td>...</td>\n      <td>...</td>\n      <td>...</td>\n      <td>...</td>\n      <td>...</td>\n      <td>...</td>\n      <td>...</td>\n      <td>...</td>\n      <td>...</td>\n      <td>...</td>\n      <td>...</td>\n      <td>...</td>\n    </tr>\n    <tr>\n      <th>13793</th>\n      <td>14498</td>\n      <td>0.000000</td>\n      <td>0.250000</td>\n      <td>0.000000</td>\n      <td>0.000000</td>\n      <td>0.00</td>\n      <td>0.250000</td>\n      <td>0.000000</td>\n      <td>0.0</td>\n      <td>0.25</td>\n      <td>0.000000</td>\n      <td>0.000000</td>\n      <td>0.000000</td>\n      <td>0.00</td>\n      <td>0.250000</td>\n      <td>0.000000</td>\n      <td>0.00</td>\n    </tr>\n    <tr>\n      <th>13794</th>\n      <td>14499</td>\n      <td>0.000000</td>\n      <td>0.250000</td>\n      <td>0.000000</td>\n      <td>0.000000</td>\n      <td>0.00</td>\n      <td>0.250000</td>\n      <td>0.000000</td>\n      <td>0.0</td>\n      <td>0.00</td>\n      <td>0.250000</td>\n      <td>0.000000</td>\n      <td>0.000000</td>\n      <td>0.00</td>\n      <td>0.000000</td>\n      <td>0.000000</td>\n      <td>0.25</td>\n    </tr>\n    <tr>\n      <th>13795</th>\n      <td>14500</td>\n      <td>0.000000</td>\n      <td>0.000000</td>\n      <td>0.000000</td>\n      <td>0.000000</td>\n      <td>0.00</td>\n      <td>0.000000</td>\n      <td>0.333333</td>\n      <td>0.0</td>\n      <td>0.00</td>\n      <td>0.000000</td>\n      <td>0.333333</td>\n      <td>0.000000</td>\n      <td>0.00</td>\n      <td>0.333333</td>\n      <td>0.000000</td>\n      <td>0.00</td>\n    </tr>\n    <tr>\n      <th>13796</th>\n      <td>14501</td>\n      <td>0.000000</td>\n      <td>0.250000</td>\n      <td>0.000000</td>\n      <td>0.000000</td>\n      <td>0.00</td>\n      <td>0.250000</td>\n      <td>0.000000</td>\n      <td>0.0</td>\n      <td>0.00</td>\n      <td>0.000000</td>\n      <td>0.250000</td>\n      <td>0.000000</td>\n      <td>0.00</td>\n      <td>0.250000</td>\n      <td>0.000000</td>\n      <td>0.00</td>\n    </tr>\n    <tr>\n      <th>13797</th>\n      <td>14502</td>\n      <td>0.000000</td>\n      <td>0.250000</td>\n      <td>0.000000</td>\n      <td>0.000000</td>\n      <td>0.00</td>\n      <td>0.000000</td>\n      <td>0.250000</td>\n      <td>0.0</td>\n      <td>0.00</td>\n      <td>0.000000</td>\n      <td>0.000000</td>\n      <td>0.250000</td>\n      <td>0.25</td>\n      <td>0.000000</td>\n      <td>0.000000</td>\n      <td>0.00</td>\n    </tr>\n  </tbody>\n</table>\n<p>13798 rows × 17 columns</p>\n</div>"
     },
     "metadata": {},
     "output_type": "display_data"
    },
    {
     "data": {
      "text/plain": "     item_id  item_term_WinterVacation  item_term_Easter  item_term_OffSeason  \\\n0          0                  0.166667               0.0             0.000000   \n1          1                  0.166667               0.0             0.000000   \n2          2                  0.166667               0.0             0.000000   \n3          3                  0.166667               0.0             0.000000   \n4          4                  0.166667               0.0             0.000000   \n..       ...                       ...               ...                  ...   \n758      758                  0.000000               0.0             0.166667   \n759      759                  0.000000               0.0             0.000000   \n760      760                  0.000000               0.0             0.000000   \n761      761                  0.000000               0.0             0.000000   \n762      762                  0.000000               0.0             0.166667   \n\n     item_term_HighSeason  item_term_LowSeason  item_term_MayLongWeekend  \\\n0                     0.0                  0.0                       0.0   \n1                     0.0                  0.0                       0.0   \n2                     0.0                  0.0                       0.0   \n3                     0.0                  0.0                       0.0   \n4                     0.0                  0.0                       0.0   \n..                    ...                  ...                       ...   \n758                   0.0                  0.0                       0.0   \n759                   0.0                  0.0                       0.0   \n760                   0.0                  0.0                       0.0   \n761                   0.0                  0.0                       0.0   \n762                   0.0                  0.0                       0.0   \n\n     item_term_NewYear  item_term_Christmas  item_rate_plan_Standard  ...  \\\n0             0.000000             0.000000                 0.166667  ...   \n1             0.000000             0.000000                 0.166667  ...   \n2             0.000000             0.000000                 0.166667  ...   \n3             0.000000             0.000000                 0.166667  ...   \n4             0.000000             0.000000                 0.166667  ...   \n..                 ...                  ...                      ...  ...   \n758           0.000000             0.000000                 0.000000  ...   \n759           0.000000             0.166667                 0.166667  ...   \n760           0.166667             0.000000                 0.166667  ...   \n761           0.166667             0.000000                 0.000000  ...   \n762           0.000000             0.000000                 0.000000  ...   \n\n     item_length_of_stay_bucket_[0-1]  item_length_of_stay_bucket_[2-3]  \\\n0                                 0.0                          0.166667   \n1                                 0.0                          0.166667   \n2                                 0.0                          0.166667   \n3                                 0.0                          0.000000   \n4                                 0.0                          0.000000   \n..                                ...                               ...   \n758                               0.0                          0.166667   \n759                               0.0                          0.000000   \n760                               0.0                          0.000000   \n761                               0.0                          0.000000   \n762                               0.0                          0.166667   \n\n     item_length_of_stay_bucket_[4-7]  item_length_of_stay_bucket_[8-inf]  \\\n0                            0.000000                            0.000000   \n1                            0.000000                            0.000000   \n2                            0.000000                            0.000000   \n3                            0.166667                            0.000000   \n4                            0.166667                            0.000000   \n..                                ...                                 ...   \n758                          0.000000                            0.000000   \n759                          0.000000                            0.166667   \n760                          0.166667                            0.000000   \n761                          0.166667                            0.000000   \n762                          0.000000                            0.000000   \n\n     item_n_people_bucket_[1-1]  item_n_people_bucket_[2-2]  \\\n0                      0.000000                    0.000000   \n1                      0.000000                    0.000000   \n2                      0.000000                    0.166667   \n3                      0.000000                    0.000000   \n4                      0.000000                    0.166667   \n..                          ...                         ...   \n758                    0.000000                    0.000000   \n759                    0.000000                    0.166667   \n760                    0.166667                    0.000000   \n761                    0.000000                    0.000000   \n762                    0.000000                    0.000000   \n\n     item_n_people_bucket_[3-4]  item_n_people_bucket_[5-inf]  \\\n0                      0.000000                      0.166667   \n1                      0.166667                      0.000000   \n2                      0.000000                      0.000000   \n3                      0.166667                      0.000000   \n4                      0.000000                      0.000000   \n..                          ...                           ...   \n758                    0.166667                      0.000000   \n759                    0.000000                      0.000000   \n760                    0.000000                      0.000000   \n761                    0.166667                      0.000000   \n762                    0.000000                      0.166667   \n\n     item_weekend_stay_True  item_weekend_stay_False  \n0                  0.166667                 0.000000  \n1                  0.166667                 0.000000  \n2                  0.000000                 0.166667  \n3                  0.166667                 0.000000  \n4                  0.166667                 0.000000  \n..                      ...                      ...  \n758                0.166667                 0.000000  \n759                0.166667                 0.000000  \n760                0.000000                 0.166667  \n761                0.166667                 0.000000  \n762                0.166667                 0.000000  \n\n[763 rows x 26 columns]",
      "text/html": "<div>\n<style scoped>\n    .dataframe tbody tr th:only-of-type {\n        vertical-align: middle;\n    }\n\n    .dataframe tbody tr th {\n        vertical-align: top;\n    }\n\n    .dataframe thead th {\n        text-align: right;\n    }\n</style>\n<table border=\"1\" class=\"dataframe\">\n  <thead>\n    <tr style=\"text-align: right;\">\n      <th></th>\n      <th>item_id</th>\n      <th>item_term_WinterVacation</th>\n      <th>item_term_Easter</th>\n      <th>item_term_OffSeason</th>\n      <th>item_term_HighSeason</th>\n      <th>item_term_LowSeason</th>\n      <th>item_term_MayLongWeekend</th>\n      <th>item_term_NewYear</th>\n      <th>item_term_Christmas</th>\n      <th>item_rate_plan_Standard</th>\n      <th>...</th>\n      <th>item_length_of_stay_bucket_[0-1]</th>\n      <th>item_length_of_stay_bucket_[2-3]</th>\n      <th>item_length_of_stay_bucket_[4-7]</th>\n      <th>item_length_of_stay_bucket_[8-inf]</th>\n      <th>item_n_people_bucket_[1-1]</th>\n      <th>item_n_people_bucket_[2-2]</th>\n      <th>item_n_people_bucket_[3-4]</th>\n      <th>item_n_people_bucket_[5-inf]</th>\n      <th>item_weekend_stay_True</th>\n      <th>item_weekend_stay_False</th>\n    </tr>\n  </thead>\n  <tbody>\n    <tr>\n      <th>0</th>\n      <td>0</td>\n      <td>0.166667</td>\n      <td>0.0</td>\n      <td>0.000000</td>\n      <td>0.0</td>\n      <td>0.0</td>\n      <td>0.0</td>\n      <td>0.000000</td>\n      <td>0.000000</td>\n      <td>0.166667</td>\n      <td>...</td>\n      <td>0.0</td>\n      <td>0.166667</td>\n      <td>0.000000</td>\n      <td>0.000000</td>\n      <td>0.000000</td>\n      <td>0.000000</td>\n      <td>0.000000</td>\n      <td>0.166667</td>\n      <td>0.166667</td>\n      <td>0.000000</td>\n    </tr>\n    <tr>\n      <th>1</th>\n      <td>1</td>\n      <td>0.166667</td>\n      <td>0.0</td>\n      <td>0.000000</td>\n      <td>0.0</td>\n      <td>0.0</td>\n      <td>0.0</td>\n      <td>0.000000</td>\n      <td>0.000000</td>\n      <td>0.166667</td>\n      <td>...</td>\n      <td>0.0</td>\n      <td>0.166667</td>\n      <td>0.000000</td>\n      <td>0.000000</td>\n      <td>0.000000</td>\n      <td>0.000000</td>\n      <td>0.166667</td>\n      <td>0.000000</td>\n      <td>0.166667</td>\n      <td>0.000000</td>\n    </tr>\n    <tr>\n      <th>2</th>\n      <td>2</td>\n      <td>0.166667</td>\n      <td>0.0</td>\n      <td>0.000000</td>\n      <td>0.0</td>\n      <td>0.0</td>\n      <td>0.0</td>\n      <td>0.000000</td>\n      <td>0.000000</td>\n      <td>0.166667</td>\n      <td>...</td>\n      <td>0.0</td>\n      <td>0.166667</td>\n      <td>0.000000</td>\n      <td>0.000000</td>\n      <td>0.000000</td>\n      <td>0.166667</td>\n      <td>0.000000</td>\n      <td>0.000000</td>\n      <td>0.000000</td>\n      <td>0.166667</td>\n    </tr>\n    <tr>\n      <th>3</th>\n      <td>3</td>\n      <td>0.166667</td>\n      <td>0.0</td>\n      <td>0.000000</td>\n      <td>0.0</td>\n      <td>0.0</td>\n      <td>0.0</td>\n      <td>0.000000</td>\n      <td>0.000000</td>\n      <td>0.166667</td>\n      <td>...</td>\n      <td>0.0</td>\n      <td>0.000000</td>\n      <td>0.166667</td>\n      <td>0.000000</td>\n      <td>0.000000</td>\n      <td>0.000000</td>\n      <td>0.166667</td>\n      <td>0.000000</td>\n      <td>0.166667</td>\n      <td>0.000000</td>\n    </tr>\n    <tr>\n      <th>4</th>\n      <td>4</td>\n      <td>0.166667</td>\n      <td>0.0</td>\n      <td>0.000000</td>\n      <td>0.0</td>\n      <td>0.0</td>\n      <td>0.0</td>\n      <td>0.000000</td>\n      <td>0.000000</td>\n      <td>0.166667</td>\n      <td>...</td>\n      <td>0.0</td>\n      <td>0.000000</td>\n      <td>0.166667</td>\n      <td>0.000000</td>\n      <td>0.000000</td>\n      <td>0.166667</td>\n      <td>0.000000</td>\n      <td>0.000000</td>\n      <td>0.166667</td>\n      <td>0.000000</td>\n    </tr>\n    <tr>\n      <th>...</th>\n      <td>...</td>\n      <td>...</td>\n      <td>...</td>\n      <td>...</td>\n      <td>...</td>\n      <td>...</td>\n      <td>...</td>\n      <td>...</td>\n      <td>...</td>\n      <td>...</td>\n      <td>...</td>\n      <td>...</td>\n      <td>...</td>\n      <td>...</td>\n      <td>...</td>\n      <td>...</td>\n      <td>...</td>\n      <td>...</td>\n      <td>...</td>\n      <td>...</td>\n      <td>...</td>\n    </tr>\n    <tr>\n      <th>758</th>\n      <td>758</td>\n      <td>0.000000</td>\n      <td>0.0</td>\n      <td>0.166667</td>\n      <td>0.0</td>\n      <td>0.0</td>\n      <td>0.0</td>\n      <td>0.000000</td>\n      <td>0.000000</td>\n      <td>0.000000</td>\n      <td>...</td>\n      <td>0.0</td>\n      <td>0.166667</td>\n      <td>0.000000</td>\n      <td>0.000000</td>\n      <td>0.000000</td>\n      <td>0.000000</td>\n      <td>0.166667</td>\n      <td>0.000000</td>\n      <td>0.166667</td>\n      <td>0.000000</td>\n    </tr>\n    <tr>\n      <th>759</th>\n      <td>759</td>\n      <td>0.000000</td>\n      <td>0.0</td>\n      <td>0.000000</td>\n      <td>0.0</td>\n      <td>0.0</td>\n      <td>0.0</td>\n      <td>0.000000</td>\n      <td>0.166667</td>\n      <td>0.166667</td>\n      <td>...</td>\n      <td>0.0</td>\n      <td>0.000000</td>\n      <td>0.000000</td>\n      <td>0.166667</td>\n      <td>0.000000</td>\n      <td>0.166667</td>\n      <td>0.000000</td>\n      <td>0.000000</td>\n      <td>0.166667</td>\n      <td>0.000000</td>\n    </tr>\n    <tr>\n      <th>760</th>\n      <td>760</td>\n      <td>0.000000</td>\n      <td>0.0</td>\n      <td>0.000000</td>\n      <td>0.0</td>\n      <td>0.0</td>\n      <td>0.0</td>\n      <td>0.166667</td>\n      <td>0.000000</td>\n      <td>0.166667</td>\n      <td>...</td>\n      <td>0.0</td>\n      <td>0.000000</td>\n      <td>0.166667</td>\n      <td>0.000000</td>\n      <td>0.166667</td>\n      <td>0.000000</td>\n      <td>0.000000</td>\n      <td>0.000000</td>\n      <td>0.000000</td>\n      <td>0.166667</td>\n    </tr>\n    <tr>\n      <th>761</th>\n      <td>761</td>\n      <td>0.000000</td>\n      <td>0.0</td>\n      <td>0.000000</td>\n      <td>0.0</td>\n      <td>0.0</td>\n      <td>0.0</td>\n      <td>0.166667</td>\n      <td>0.000000</td>\n      <td>0.000000</td>\n      <td>...</td>\n      <td>0.0</td>\n      <td>0.000000</td>\n      <td>0.166667</td>\n      <td>0.000000</td>\n      <td>0.000000</td>\n      <td>0.000000</td>\n      <td>0.166667</td>\n      <td>0.000000</td>\n      <td>0.166667</td>\n      <td>0.000000</td>\n    </tr>\n    <tr>\n      <th>762</th>\n      <td>762</td>\n      <td>0.000000</td>\n      <td>0.0</td>\n      <td>0.166667</td>\n      <td>0.0</td>\n      <td>0.0</td>\n      <td>0.0</td>\n      <td>0.000000</td>\n      <td>0.000000</td>\n      <td>0.000000</td>\n      <td>...</td>\n      <td>0.0</td>\n      <td>0.166667</td>\n      <td>0.000000</td>\n      <td>0.000000</td>\n      <td>0.000000</td>\n      <td>0.000000</td>\n      <td>0.000000</td>\n      <td>0.166667</td>\n      <td>0.166667</td>\n      <td>0.000000</td>\n    </tr>\n  </tbody>\n</table>\n<p>763 rows × 26 columns</p>\n</div>"
     },
     "metadata": {},
     "output_type": "display_data"
    }
   ],
   "source": [
    "user_df, user_features = FitDataToolkit.prepare_users_df(input_interactions_df)\n",
    "items_df, item_features = FitDataToolkit.prepare_items_df(input_interactions_df)\n",
    "\n",
    "display(user_df)\n",
    "display(items_df)"
   ],
   "metadata": {
    "collapsed": false,
    "pycharm": {
     "name": "#%%\n"
    }
   }
  },
  {
   "cell_type": "markdown",
   "source": [
    "# Content-based recommender\n",
    "\n",
    "<span style=\"color:red\"><font size=\"4\">**Task:**</font></span><br>\n",
    "Code the content-based recommender. User features should be calculated within the fit method based on available training data and should be saved in the object as self.users_df for later use in the recommend method. Item features should be calculated both in the fit method (from interactions_df) and in the recommend method (from items_df - the items to be evaluated).\n",
    "\n",
    "In the fit method you have to randomly generate non-existing interactions and add them to the training data for the regressor. You should add the target variable to interactions - equal to 1 for real (\"positive\") interactions and equal to 0 for those newly added \"negative\" interactions. Generate several negative interactions per every positive interaction (n_neg_per_pos). Treat the proportion as a tunable parameter of the model.\n",
    "\n",
    "Remember to keep control over randomness - in the init method add seed as a parameter and initialize the random seed generator with that seed:\n",
    "\n",
    "```python\n",
    "self.seed = seed\n",
    "self.rng = np.random.RandomState(seed=seed)\n",
    "```\n",
    "\n",
    "Below the base content-based recommender class there are several classes which inherit from the base class and use different ML models:\n",
    "  - LinearRegressionCBUIRecommender - based on linear regression,\n",
    "  - SVRCBUIRecommender - based on Support Vector Regressor (if you want to test it, sample the data in the fit method, as the training can take many hours on the entire dataset of interactions),\n",
    "  - RandomForestCBUIRecommender - based on Random Forest,\n",
    "  - XGBoostCBUIRecommender - based on XGBoost.\n",
    "\n",
    "There is no need to change anything in those inheriting classes, although you can experiment with other tunable parameters of the underlying models.\n",
    "\n",
    "You are encouraged to experiment with:\n",
    "  - Other numerical user and item features (but always train and evaluate the model on buckets defined in the first notebook).\n",
    "  - Other ML models, e.g. Huber regression, Lasso regression, Ridge regression, LARS regression, Linear SVR, Decision Tree, Naive Bayes, LightGBM, Neural Networks or any model of your choice."
   ],
   "metadata": {
    "collapsed": false
   }
  },
  {
   "cell_type": "code",
   "source": [
    "from sklearn.linear_model import LinearRegression\n",
    "from sklearn.svm import SVR\n",
    "from sklearn.ensemble import RandomForestRegressor\n",
    "from sklearn.ensemble import GradientBoostingRegressor\n",
    "\n",
    "from recommenders.recommender import Recommender\n",
    "\n",
    "\n",
    "class ContentBasedUserItemRecommender(Recommender):\n",
    "\n",
    "    def __init__(self, seed: int = 6789, n_neg_per_pos: int = 5, n_most_popular_items: int = 5):\n",
    "\n",
    "        super().__init__()\n",
    "\n",
    "        self.fitDataToolkit = FitDataToolkit()\n",
    "        self.model = LinearRegression()\n",
    "        self.n_neg_per_pos = n_neg_per_pos\n",
    "\n",
    "        self.n_most_popular_items = n_most_popular_items\n",
    "\n",
    "        self.recommender_df = pd.DataFrame(columns=['user_id', 'item_id', 'score'])\n",
    "        self.users_df: pd.DataFrame | None = None\n",
    "        self.user_features: List[str] | None = None\n",
    "        self.items_df: pd.DataFrame | None = None\n",
    "        self.item_features: List[str] | None = None\n",
    "\n",
    "        self.seed = seed\n",
    "        self.rng = np.random.RandomState(seed=seed)\n",
    "\n",
    "    def fit(self, interactions_df: pd.DataFrame, users_df: pd.DataFrame, items_df: pd.DataFrame):\n",
    "\n",
    "        self.users_df, self.user_features = self.fitDataToolkit.prepare_users_df(interactions_df, self.n_most_popular_items)\n",
    "        self.items_df, self.item_features = self.fitDataToolkit.prepare_items_df(interactions_df)\n",
    "        self.items_df = self.items_df.loc[:, ['item_id'] + self.item_features]\n",
    "\n",
    "        interactions_df = interactions_df.loc[:, ['user_id', 'item_id']]\n",
    "        interactions_df.loc[:, 'interacted'] = 1\n",
    "        negative_interactions = []\n",
    "\n",
    "        n_users = np.max(interactions_df['user_id']) + 1\n",
    "        n_items = np.max(interactions_df['item_id']) + 1\n",
    "\n",
    "        copy = interactions_df.copy()\n",
    "        copy['val'] = 1\n",
    "        interactions_dict = copy.set_index(['user_id', 'item_id']).val.to_dict()\n",
    "\n",
    "        i = 0\n",
    "        temp = self.n_neg_per_pos * len(interactions_df)\n",
    "        while i < temp:\n",
    "            sample_size = 1000\n",
    "            user_ids = self.rng.choice(np.arange(n_users), size=sample_size)\n",
    "            item_ids = self.rng.choice(np.arange(n_items), size=sample_size)\n",
    "\n",
    "            j = 0\n",
    "            while j < sample_size and i < temp:\n",
    "                if (user_ids[j], item_ids[j]) not in interactions_dict:\n",
    "                    negative_interactions.append([user_ids[j], item_ids[j], 0])\n",
    "                    i += 1\n",
    "                j += 1\n",
    "\n",
    "        interactions_df = pd.concat(\n",
    "            [interactions_df, pd.DataFrame(negative_interactions, columns=['user_id', 'item_id', 'interacted'])])\n",
    "\n",
    "        interactions_df = pd.merge(interactions_df, self.users_df, on=['user_id'])\n",
    "        interactions_df = pd.merge(interactions_df, self.items_df, on=['item_id'])\n",
    "        x = interactions_df.loc[:, self.user_features + self.item_features].values\n",
    "        y = interactions_df['interacted'].values\n",
    "\n",
    "        self.model.fit(x, y)\n",
    "\n",
    "    def recommend(self, users_df: pd.DataFrame, interactions_df: pd.DataFrame, n_recommendations: int = 1):\n",
    "\n",
    "        self.recommender_df = self.recommender_df[:0]\n",
    "\n",
    "        users_df = pd.merge(users_df, self.users_df, on='user_id', how='left')\n",
    "        users_df = users_df.fillna(0)\n",
    "        items_df, item_features = self.fitDataToolkit.prepare_items_df(interactions_df)\n",
    "\n",
    "        for ix, user in users_df.iterrows():\n",
    "\n",
    "            user_df = user.to_frame().T\n",
    "            input_df = pd.merge(user_df, items_df, how=\"cross\")\n",
    "            input_df_copy = input_df.drop(columns=['user_id', 'item_id'])\n",
    "\n",
    "            scores = self.model.predict(input_df_copy.values)\n",
    "            chosen_ids = np.argsort(-scores)[:n_recommendations]\n",
    "\n",
    "            user_recommendations = []\n",
    "            for item_id in chosen_ids:\n",
    "                user_recommendations.append(\n",
    "                    {\n",
    "                        'user_id': user['user_id'],\n",
    "                        'item_id': input_df.iloc[item_id]['item_id'],\n",
    "                        'score': scores[item_id]\n",
    "                    }\n",
    "                )\n",
    "\n",
    "            user_recommendations = pd.DataFrame(user_recommendations)\n",
    "            self.recommender_df = pd.concat([self.recommender_df, user_recommendations])\n",
    "\n",
    "        return self.recommender_df\n",
    "\n",
    "\n",
    "class LinearRegressionCBUIRecommender(ContentBasedUserItemRecommender):\n",
    "    def __init__(self, seed=6789, n_neg_per_pos=5, **model_params):\n",
    "        n_most_popular_items = 5\n",
    "        if 'n_most_popular_items' in model_params:\n",
    "            n_most_popular_items = int(model_params['n_most_popular_items'])\n",
    "        super().__init__(seed=seed, n_neg_per_pos=n_neg_per_pos, n_most_popular_items=n_most_popular_items)\n",
    "        self.model = LinearRegression()\n",
    "\n",
    "\n",
    "class SVRCBUIRecommender(ContentBasedUserItemRecommender):\n",
    "    def __init__(self, seed=6789, n_neg_per_pos=5, **model_params):\n",
    "        n_most_popular_items = 5\n",
    "        if 'n_most_popular_items' in model_params:\n",
    "            n_most_popular_items = int(model_params['n_most_popular_items'])\n",
    "        super().__init__(seed=seed, n_neg_per_pos=n_neg_per_pos, n_most_popular_items=n_most_popular_items)\n",
    "        if 'kernel' in model_params:\n",
    "            self.kernel = model_params['kernel']\n",
    "        else:\n",
    "            self.kernel = 'rbf'\n",
    "        if 'C' in model_params:\n",
    "            self.C = model_params['C']\n",
    "        else:\n",
    "            self.C = 1.0\n",
    "        if 'epsilon' in model_params:\n",
    "            self.epsilon = model_params['epsilon']\n",
    "        else:\n",
    "            self.epsilon = 0.1\n",
    "        self.model = SVR(kernel=self.kernel, C=self.C, epsilon=self.epsilon)\n",
    "\n",
    "\n",
    "class RandomForestCBUIRecommender(ContentBasedUserItemRecommender):\n",
    "    def __init__(self, seed=6789, n_neg_per_pos=5, **model_params):\n",
    "        n_most_popular_items = 5\n",
    "        if 'n_most_popular_items' in model_params:\n",
    "            n_most_popular_items = int(model_params['n_most_popular_items'])\n",
    "        super().__init__(seed=seed, n_neg_per_pos=n_neg_per_pos, n_most_popular_items=n_most_popular_items)\n",
    "        if 'n_estimators' in model_params:\n",
    "            self.n_estimators = int(model_params['n_estimators'])\n",
    "        else:\n",
    "            self.n_estimators = 100\n",
    "        if 'max_depth' in model_params:\n",
    "            self.max_depth = int(model_params['max_depth'])\n",
    "        else:\n",
    "            self.max_depth = 30\n",
    "        if 'min_samples_split' in model_params:\n",
    "            self.min_samples_split = int(model_params['min_samples_split'])\n",
    "        else:\n",
    "            self.min_samples_split = 30\n",
    "        self.model = RandomForestRegressor(\n",
    "            n_estimators=self.n_estimators, max_depth=self.max_depth, min_samples_split=self.min_samples_split)\n",
    "\n",
    "\n",
    "class XGBoostCBUIRecommender(ContentBasedUserItemRecommender):\n",
    "    def __init__(self, seed=6789, n_neg_per_pos=5, **model_params):\n",
    "        n_most_popular_items = 5\n",
    "        if 'n_most_popular_items' in model_params:\n",
    "            n_most_popular_items = int(model_params['n_most_popular_items'])\n",
    "        super().__init__(seed=seed, n_neg_per_pos=n_neg_per_pos, n_most_popular_items=n_most_popular_items)\n",
    "        if 'n_estimators' in model_params:\n",
    "            self.n_estimators = int(model_params['n_estimators'])\n",
    "        else:\n",
    "            self.n_estimators = 100\n",
    "        if 'max_depth' in model_params:\n",
    "            self.max_depth = int(model_params['max_depth'])\n",
    "        else:\n",
    "            self.max_depth = 30\n",
    "        if 'min_samples_split' in model_params:\n",
    "            self.min_samples_split = int(model_params['min_samples_split'])\n",
    "        else:\n",
    "            self.min_samples_split = 30\n",
    "        if 'learning_rate' in model_params:\n",
    "            self.learning_rate = model_params['learning_rate']\n",
    "        else:\n",
    "            self.learning_rate = 30\n",
    "        self.model = GradientBoostingRegressor(\n",
    "            n_estimators=self.n_estimators, max_depth=self.max_depth, min_samples_split=self.min_samples_split,\n",
    "            learning_rate=self.learning_rate)"
   ],
   "metadata": {
    "collapsed": false,
    "pycharm": {
     "name": "#%%\n"
    }
   },
   "execution_count": 5,
   "outputs": []
  },
  {
   "cell_type": "markdown",
   "id": "copyrighted-relative",
   "metadata": {},
   "source": [
    "# Quick test of the recommender"
   ]
  },
  {
   "cell_type": "code",
   "execution_count": 6,
   "id": "greatest-canon",
   "metadata": {},
   "outputs": [],
   "source": [
    "items_df = input_interactions_df.loc[:, ['item_id'] + base_item_features].drop_duplicates()"
   ]
  },
  {
   "cell_type": "code",
   "execution_count": 7,
   "id": "initial-capital",
   "metadata": {},
   "outputs": [
    {
     "name": "stdout",
     "output_type": "stream",
     "text": [
      "Fit function performance: 11.654460191726685 seconds\n"
     ]
    }
   ],
   "source": [
    "import time\n",
    "start_time = time.time()\n",
    "\n",
    "cb_user_item_recommender = RandomForestCBUIRecommender()\n",
    "cb_user_item_recommender.fit(input_interactions_df, None, None)\n",
    "\n",
    "print(\"Fit function performance: %s seconds\" % (time.time() - start_time))"
   ]
  },
  {
   "cell_type": "code",
   "execution_count": 9,
   "id": "digital-consolidation",
   "metadata": {
    "scrolled": false
   },
   "outputs": [
    {
     "data": {
      "text/plain": "   user_id item_id     score            term length_of_stay_bucket rate_plan  \\\n0      1.0    55.0       1.0       OffSeason                 [2-3]    Nonref   \n1      1.0    22.0       1.0       OffSeason                 [2-3]  Standard   \n2      1.0    61.0  0.998266       OffSeason                 [4-7]    Nonref   \n3      1.0    32.0  0.998205       OffSeason                 [2-3]  Standard   \n4      1.0    51.0   0.99814       OffSeason                 [2-3]    Nonref   \n5      1.0    53.0   0.99775       OffSeason                 [2-3]    Nonref   \n6      1.0    21.0   0.99775       OffSeason                 [2-3]  Standard   \n7      1.0    23.0  0.994248       OffSeason                 [4-7]  Standard   \n8      1.0    14.0  0.969455       OffSeason                 [4-7]  Standard   \n9      1.0    76.0  0.948566       OffSeason                 [4-7]    Nonref   \n10     2.0     1.0  0.989849  WinterVacation                 [2-3]  Standard   \n11     2.0   113.0  0.989733  WinterVacation                 [2-3]    Nonref   \n12     2.0   376.0  0.975162  WinterVacation                 [2-3]  Standard   \n13     2.0   133.0  0.876068  WinterVacation                 [2-3]    Nonref   \n14     2.0   459.0  0.526102  WinterVacation                 [2-3]    Nonref   \n15     2.0     2.0  0.504742  WinterVacation                 [2-3]  Standard   \n16     2.0   469.0  0.175535  WinterVacation                 [2-3]    Nonref   \n17     2.0   456.0  0.175535  WinterVacation                 [2-3]  Standard   \n18     2.0   552.0  0.140916  WinterVacation                 [2-3]    Nonref   \n19     2.0   546.0  0.132544  WinterVacation                 [2-3]  Standard   \n20     3.0    44.0       1.0  WinterVacation                 [2-3]  Standard   \n21     3.0    60.0  0.986899  WinterVacation                 [2-3]    Nonref   \n22     3.0     2.0  0.948553  WinterVacation                 [2-3]  Standard   \n23     3.0   459.0  0.915183  WinterVacation                 [2-3]    Nonref   \n24     3.0   113.0  0.415595  WinterVacation                 [2-3]    Nonref   \n25     3.0     1.0  0.339157  WinterVacation                 [2-3]  Standard   \n26     3.0   133.0  0.325963  WinterVacation                 [2-3]    Nonref   \n27     3.0   376.0  0.311995  WinterVacation                 [2-3]  Standard   \n28     3.0   456.0  0.262006  WinterVacation                 [2-3]  Standard   \n29     3.0   469.0  0.260905  WinterVacation                 [2-3]    Nonref   \n30     4.0     3.0       1.0  WinterVacation                 [4-7]  Standard   \n31     4.0   125.0  0.944328  WinterVacation                 [4-7]    Nonref   \n32     4.0    43.0  0.931827  WinterVacation                 [4-7]  Standard   \n33     4.0   492.0  0.900884  WinterVacation                 [4-7]    Nonref   \n34     4.0   460.0  0.577089  WinterVacation                 [4-7]    Nonref   \n35     4.0   437.0  0.514812  WinterVacation                 [4-7]    Nonref   \n36     4.0   564.0  0.435531  WinterVacation                 [4-7]  Standard   \n37     4.0   436.0    0.4342  WinterVacation                 [0-1]  Standard   \n38     4.0   543.0  0.407259  WinterVacation                 [0-1]  Standard   \n39     4.0   545.0   0.32865  WinterVacation                 [0-1]    Nonref   \n40     5.0     4.0  0.869279  WinterVacation                 [4-7]  Standard   \n41     5.0   478.0  0.848273  WinterVacation                 [4-7]    Nonref   \n42     5.0   560.0  0.765517  WinterVacation                 [4-7]    Nonref   \n43     5.0   716.0  0.621352  WinterVacation                 [0-1]    Nonref   \n44     5.0   573.0  0.552562  WinterVacation                 [0-1]    Nonref   \n45     5.0   708.0  0.538731  WinterVacation                 [0-1]  Standard   \n46     5.0   685.0  0.516645  WinterVacation                 [4-7]  Standard   \n47     5.0   350.0  0.464971       LowSeason                 [4-7]    Nonref   \n48     5.0   294.0  0.463127       LowSeason                 [4-7]    Nonref   \n49     5.0    86.0  0.444925       LowSeason                 [4-7]  Standard   \n\n   room_segment n_people_bucket weekend_stay  \n0     [160-260]           [2-2]         True  \n1     [160-260]           [3-4]         True  \n2     [160-260]           [2-2]         True  \n3     [160-260]           [2-2]         True  \n4     [160-260]           [3-4]         True  \n5     [160-260]           [2-2]        False  \n6     [160-260]           [2-2]        False  \n7     [160-260]           [2-2]         True  \n8     [160-260]           [3-4]         True  \n9     [160-260]           [3-4]         True  \n10    [160-260]           [3-4]         True  \n11    [160-260]           [3-4]         True  \n12    [160-260]           [3-4]        False  \n13    [160-260]           [3-4]        False  \n14    [160-260]           [2-2]        False  \n15    [160-260]           [2-2]        False  \n16    [160-260]         [5-inf]         True  \n17    [160-260]         [5-inf]         True  \n18    [160-260]         [5-inf]        False  \n19    [160-260]         [5-inf]        False  \n20    [160-260]           [2-2]         True  \n21    [160-260]           [2-2]         True  \n22    [160-260]           [2-2]        False  \n23    [160-260]           [2-2]        False  \n24    [160-260]           [3-4]         True  \n25    [160-260]           [3-4]         True  \n26    [160-260]           [3-4]        False  \n27    [160-260]           [3-4]        False  \n28    [160-260]         [5-inf]         True  \n29    [160-260]         [5-inf]         True  \n30    [160-260]           [3-4]         True  \n31    [160-260]           [3-4]         True  \n32    [160-260]           [3-4]        False  \n33    [160-260]           [3-4]        False  \n34    [160-260]           [2-2]        False  \n35    [160-260]           [2-2]         True  \n36    [160-260]           [2-2]        False  \n37    [160-260]           [3-4]        False  \n38    [160-260]           [3-4]         True  \n39    [160-260]           [3-4]        False  \n40      [0-160]           [2-2]         True  \n41      [0-160]           [2-2]         True  \n42      [0-160]           [2-2]        False  \n43      [0-160]           [2-2]         True  \n44      [0-160]           [2-2]        False  \n45      [0-160]           [2-2]        False  \n46      [0-160]           [3-4]         True  \n47      [0-160]           [2-2]        False  \n48      [0-160]           [2-2]         True  \n49      [0-160]           [2-2]         True  ",
      "text/html": "<div>\n<style scoped>\n    .dataframe tbody tr th:only-of-type {\n        vertical-align: middle;\n    }\n\n    .dataframe tbody tr th {\n        vertical-align: top;\n    }\n\n    .dataframe thead th {\n        text-align: right;\n    }\n</style>\n<table border=\"1\" class=\"dataframe\">\n  <thead>\n    <tr style=\"text-align: right;\">\n      <th></th>\n      <th>user_id</th>\n      <th>item_id</th>\n      <th>score</th>\n      <th>term</th>\n      <th>length_of_stay_bucket</th>\n      <th>rate_plan</th>\n      <th>room_segment</th>\n      <th>n_people_bucket</th>\n      <th>weekend_stay</th>\n    </tr>\n  </thead>\n  <tbody>\n    <tr>\n      <th>0</th>\n      <td>1.0</td>\n      <td>55.0</td>\n      <td>1.0</td>\n      <td>OffSeason</td>\n      <td>[2-3]</td>\n      <td>Nonref</td>\n      <td>[160-260]</td>\n      <td>[2-2]</td>\n      <td>True</td>\n    </tr>\n    <tr>\n      <th>1</th>\n      <td>1.0</td>\n      <td>22.0</td>\n      <td>1.0</td>\n      <td>OffSeason</td>\n      <td>[2-3]</td>\n      <td>Standard</td>\n      <td>[160-260]</td>\n      <td>[3-4]</td>\n      <td>True</td>\n    </tr>\n    <tr>\n      <th>2</th>\n      <td>1.0</td>\n      <td>61.0</td>\n      <td>0.998266</td>\n      <td>OffSeason</td>\n      <td>[4-7]</td>\n      <td>Nonref</td>\n      <td>[160-260]</td>\n      <td>[2-2]</td>\n      <td>True</td>\n    </tr>\n    <tr>\n      <th>3</th>\n      <td>1.0</td>\n      <td>32.0</td>\n      <td>0.998205</td>\n      <td>OffSeason</td>\n      <td>[2-3]</td>\n      <td>Standard</td>\n      <td>[160-260]</td>\n      <td>[2-2]</td>\n      <td>True</td>\n    </tr>\n    <tr>\n      <th>4</th>\n      <td>1.0</td>\n      <td>51.0</td>\n      <td>0.99814</td>\n      <td>OffSeason</td>\n      <td>[2-3]</td>\n      <td>Nonref</td>\n      <td>[160-260]</td>\n      <td>[3-4]</td>\n      <td>True</td>\n    </tr>\n    <tr>\n      <th>5</th>\n      <td>1.0</td>\n      <td>53.0</td>\n      <td>0.99775</td>\n      <td>OffSeason</td>\n      <td>[2-3]</td>\n      <td>Nonref</td>\n      <td>[160-260]</td>\n      <td>[2-2]</td>\n      <td>False</td>\n    </tr>\n    <tr>\n      <th>6</th>\n      <td>1.0</td>\n      <td>21.0</td>\n      <td>0.99775</td>\n      <td>OffSeason</td>\n      <td>[2-3]</td>\n      <td>Standard</td>\n      <td>[160-260]</td>\n      <td>[2-2]</td>\n      <td>False</td>\n    </tr>\n    <tr>\n      <th>7</th>\n      <td>1.0</td>\n      <td>23.0</td>\n      <td>0.994248</td>\n      <td>OffSeason</td>\n      <td>[4-7]</td>\n      <td>Standard</td>\n      <td>[160-260]</td>\n      <td>[2-2]</td>\n      <td>True</td>\n    </tr>\n    <tr>\n      <th>8</th>\n      <td>1.0</td>\n      <td>14.0</td>\n      <td>0.969455</td>\n      <td>OffSeason</td>\n      <td>[4-7]</td>\n      <td>Standard</td>\n      <td>[160-260]</td>\n      <td>[3-4]</td>\n      <td>True</td>\n    </tr>\n    <tr>\n      <th>9</th>\n      <td>1.0</td>\n      <td>76.0</td>\n      <td>0.948566</td>\n      <td>OffSeason</td>\n      <td>[4-7]</td>\n      <td>Nonref</td>\n      <td>[160-260]</td>\n      <td>[3-4]</td>\n      <td>True</td>\n    </tr>\n    <tr>\n      <th>10</th>\n      <td>2.0</td>\n      <td>1.0</td>\n      <td>0.989849</td>\n      <td>WinterVacation</td>\n      <td>[2-3]</td>\n      <td>Standard</td>\n      <td>[160-260]</td>\n      <td>[3-4]</td>\n      <td>True</td>\n    </tr>\n    <tr>\n      <th>11</th>\n      <td>2.0</td>\n      <td>113.0</td>\n      <td>0.989733</td>\n      <td>WinterVacation</td>\n      <td>[2-3]</td>\n      <td>Nonref</td>\n      <td>[160-260]</td>\n      <td>[3-4]</td>\n      <td>True</td>\n    </tr>\n    <tr>\n      <th>12</th>\n      <td>2.0</td>\n      <td>376.0</td>\n      <td>0.975162</td>\n      <td>WinterVacation</td>\n      <td>[2-3]</td>\n      <td>Standard</td>\n      <td>[160-260]</td>\n      <td>[3-4]</td>\n      <td>False</td>\n    </tr>\n    <tr>\n      <th>13</th>\n      <td>2.0</td>\n      <td>133.0</td>\n      <td>0.876068</td>\n      <td>WinterVacation</td>\n      <td>[2-3]</td>\n      <td>Nonref</td>\n      <td>[160-260]</td>\n      <td>[3-4]</td>\n      <td>False</td>\n    </tr>\n    <tr>\n      <th>14</th>\n      <td>2.0</td>\n      <td>459.0</td>\n      <td>0.526102</td>\n      <td>WinterVacation</td>\n      <td>[2-3]</td>\n      <td>Nonref</td>\n      <td>[160-260]</td>\n      <td>[2-2]</td>\n      <td>False</td>\n    </tr>\n    <tr>\n      <th>15</th>\n      <td>2.0</td>\n      <td>2.0</td>\n      <td>0.504742</td>\n      <td>WinterVacation</td>\n      <td>[2-3]</td>\n      <td>Standard</td>\n      <td>[160-260]</td>\n      <td>[2-2]</td>\n      <td>False</td>\n    </tr>\n    <tr>\n      <th>16</th>\n      <td>2.0</td>\n      <td>469.0</td>\n      <td>0.175535</td>\n      <td>WinterVacation</td>\n      <td>[2-3]</td>\n      <td>Nonref</td>\n      <td>[160-260]</td>\n      <td>[5-inf]</td>\n      <td>True</td>\n    </tr>\n    <tr>\n      <th>17</th>\n      <td>2.0</td>\n      <td>456.0</td>\n      <td>0.175535</td>\n      <td>WinterVacation</td>\n      <td>[2-3]</td>\n      <td>Standard</td>\n      <td>[160-260]</td>\n      <td>[5-inf]</td>\n      <td>True</td>\n    </tr>\n    <tr>\n      <th>18</th>\n      <td>2.0</td>\n      <td>552.0</td>\n      <td>0.140916</td>\n      <td>WinterVacation</td>\n      <td>[2-3]</td>\n      <td>Nonref</td>\n      <td>[160-260]</td>\n      <td>[5-inf]</td>\n      <td>False</td>\n    </tr>\n    <tr>\n      <th>19</th>\n      <td>2.0</td>\n      <td>546.0</td>\n      <td>0.132544</td>\n      <td>WinterVacation</td>\n      <td>[2-3]</td>\n      <td>Standard</td>\n      <td>[160-260]</td>\n      <td>[5-inf]</td>\n      <td>False</td>\n    </tr>\n    <tr>\n      <th>20</th>\n      <td>3.0</td>\n      <td>44.0</td>\n      <td>1.0</td>\n      <td>WinterVacation</td>\n      <td>[2-3]</td>\n      <td>Standard</td>\n      <td>[160-260]</td>\n      <td>[2-2]</td>\n      <td>True</td>\n    </tr>\n    <tr>\n      <th>21</th>\n      <td>3.0</td>\n      <td>60.0</td>\n      <td>0.986899</td>\n      <td>WinterVacation</td>\n      <td>[2-3]</td>\n      <td>Nonref</td>\n      <td>[160-260]</td>\n      <td>[2-2]</td>\n      <td>True</td>\n    </tr>\n    <tr>\n      <th>22</th>\n      <td>3.0</td>\n      <td>2.0</td>\n      <td>0.948553</td>\n      <td>WinterVacation</td>\n      <td>[2-3]</td>\n      <td>Standard</td>\n      <td>[160-260]</td>\n      <td>[2-2]</td>\n      <td>False</td>\n    </tr>\n    <tr>\n      <th>23</th>\n      <td>3.0</td>\n      <td>459.0</td>\n      <td>0.915183</td>\n      <td>WinterVacation</td>\n      <td>[2-3]</td>\n      <td>Nonref</td>\n      <td>[160-260]</td>\n      <td>[2-2]</td>\n      <td>False</td>\n    </tr>\n    <tr>\n      <th>24</th>\n      <td>3.0</td>\n      <td>113.0</td>\n      <td>0.415595</td>\n      <td>WinterVacation</td>\n      <td>[2-3]</td>\n      <td>Nonref</td>\n      <td>[160-260]</td>\n      <td>[3-4]</td>\n      <td>True</td>\n    </tr>\n    <tr>\n      <th>25</th>\n      <td>3.0</td>\n      <td>1.0</td>\n      <td>0.339157</td>\n      <td>WinterVacation</td>\n      <td>[2-3]</td>\n      <td>Standard</td>\n      <td>[160-260]</td>\n      <td>[3-4]</td>\n      <td>True</td>\n    </tr>\n    <tr>\n      <th>26</th>\n      <td>3.0</td>\n      <td>133.0</td>\n      <td>0.325963</td>\n      <td>WinterVacation</td>\n      <td>[2-3]</td>\n      <td>Nonref</td>\n      <td>[160-260]</td>\n      <td>[3-4]</td>\n      <td>False</td>\n    </tr>\n    <tr>\n      <th>27</th>\n      <td>3.0</td>\n      <td>376.0</td>\n      <td>0.311995</td>\n      <td>WinterVacation</td>\n      <td>[2-3]</td>\n      <td>Standard</td>\n      <td>[160-260]</td>\n      <td>[3-4]</td>\n      <td>False</td>\n    </tr>\n    <tr>\n      <th>28</th>\n      <td>3.0</td>\n      <td>456.0</td>\n      <td>0.262006</td>\n      <td>WinterVacation</td>\n      <td>[2-3]</td>\n      <td>Standard</td>\n      <td>[160-260]</td>\n      <td>[5-inf]</td>\n      <td>True</td>\n    </tr>\n    <tr>\n      <th>29</th>\n      <td>3.0</td>\n      <td>469.0</td>\n      <td>0.260905</td>\n      <td>WinterVacation</td>\n      <td>[2-3]</td>\n      <td>Nonref</td>\n      <td>[160-260]</td>\n      <td>[5-inf]</td>\n      <td>True</td>\n    </tr>\n    <tr>\n      <th>30</th>\n      <td>4.0</td>\n      <td>3.0</td>\n      <td>1.0</td>\n      <td>WinterVacation</td>\n      <td>[4-7]</td>\n      <td>Standard</td>\n      <td>[160-260]</td>\n      <td>[3-4]</td>\n      <td>True</td>\n    </tr>\n    <tr>\n      <th>31</th>\n      <td>4.0</td>\n      <td>125.0</td>\n      <td>0.944328</td>\n      <td>WinterVacation</td>\n      <td>[4-7]</td>\n      <td>Nonref</td>\n      <td>[160-260]</td>\n      <td>[3-4]</td>\n      <td>True</td>\n    </tr>\n    <tr>\n      <th>32</th>\n      <td>4.0</td>\n      <td>43.0</td>\n      <td>0.931827</td>\n      <td>WinterVacation</td>\n      <td>[4-7]</td>\n      <td>Standard</td>\n      <td>[160-260]</td>\n      <td>[3-4]</td>\n      <td>False</td>\n    </tr>\n    <tr>\n      <th>33</th>\n      <td>4.0</td>\n      <td>492.0</td>\n      <td>0.900884</td>\n      <td>WinterVacation</td>\n      <td>[4-7]</td>\n      <td>Nonref</td>\n      <td>[160-260]</td>\n      <td>[3-4]</td>\n      <td>False</td>\n    </tr>\n    <tr>\n      <th>34</th>\n      <td>4.0</td>\n      <td>460.0</td>\n      <td>0.577089</td>\n      <td>WinterVacation</td>\n      <td>[4-7]</td>\n      <td>Nonref</td>\n      <td>[160-260]</td>\n      <td>[2-2]</td>\n      <td>False</td>\n    </tr>\n    <tr>\n      <th>35</th>\n      <td>4.0</td>\n      <td>437.0</td>\n      <td>0.514812</td>\n      <td>WinterVacation</td>\n      <td>[4-7]</td>\n      <td>Nonref</td>\n      <td>[160-260]</td>\n      <td>[2-2]</td>\n      <td>True</td>\n    </tr>\n    <tr>\n      <th>36</th>\n      <td>4.0</td>\n      <td>564.0</td>\n      <td>0.435531</td>\n      <td>WinterVacation</td>\n      <td>[4-7]</td>\n      <td>Standard</td>\n      <td>[160-260]</td>\n      <td>[2-2]</td>\n      <td>False</td>\n    </tr>\n    <tr>\n      <th>37</th>\n      <td>4.0</td>\n      <td>436.0</td>\n      <td>0.4342</td>\n      <td>WinterVacation</td>\n      <td>[0-1]</td>\n      <td>Standard</td>\n      <td>[160-260]</td>\n      <td>[3-4]</td>\n      <td>False</td>\n    </tr>\n    <tr>\n      <th>38</th>\n      <td>4.0</td>\n      <td>543.0</td>\n      <td>0.407259</td>\n      <td>WinterVacation</td>\n      <td>[0-1]</td>\n      <td>Standard</td>\n      <td>[160-260]</td>\n      <td>[3-4]</td>\n      <td>True</td>\n    </tr>\n    <tr>\n      <th>39</th>\n      <td>4.0</td>\n      <td>545.0</td>\n      <td>0.32865</td>\n      <td>WinterVacation</td>\n      <td>[0-1]</td>\n      <td>Nonref</td>\n      <td>[160-260]</td>\n      <td>[3-4]</td>\n      <td>False</td>\n    </tr>\n    <tr>\n      <th>40</th>\n      <td>5.0</td>\n      <td>4.0</td>\n      <td>0.869279</td>\n      <td>WinterVacation</td>\n      <td>[4-7]</td>\n      <td>Standard</td>\n      <td>[0-160]</td>\n      <td>[2-2]</td>\n      <td>True</td>\n    </tr>\n    <tr>\n      <th>41</th>\n      <td>5.0</td>\n      <td>478.0</td>\n      <td>0.848273</td>\n      <td>WinterVacation</td>\n      <td>[4-7]</td>\n      <td>Nonref</td>\n      <td>[0-160]</td>\n      <td>[2-2]</td>\n      <td>True</td>\n    </tr>\n    <tr>\n      <th>42</th>\n      <td>5.0</td>\n      <td>560.0</td>\n      <td>0.765517</td>\n      <td>WinterVacation</td>\n      <td>[4-7]</td>\n      <td>Nonref</td>\n      <td>[0-160]</td>\n      <td>[2-2]</td>\n      <td>False</td>\n    </tr>\n    <tr>\n      <th>43</th>\n      <td>5.0</td>\n      <td>716.0</td>\n      <td>0.621352</td>\n      <td>WinterVacation</td>\n      <td>[0-1]</td>\n      <td>Nonref</td>\n      <td>[0-160]</td>\n      <td>[2-2]</td>\n      <td>True</td>\n    </tr>\n    <tr>\n      <th>44</th>\n      <td>5.0</td>\n      <td>573.0</td>\n      <td>0.552562</td>\n      <td>WinterVacation</td>\n      <td>[0-1]</td>\n      <td>Nonref</td>\n      <td>[0-160]</td>\n      <td>[2-2]</td>\n      <td>False</td>\n    </tr>\n    <tr>\n      <th>45</th>\n      <td>5.0</td>\n      <td>708.0</td>\n      <td>0.538731</td>\n      <td>WinterVacation</td>\n      <td>[0-1]</td>\n      <td>Standard</td>\n      <td>[0-160]</td>\n      <td>[2-2]</td>\n      <td>False</td>\n    </tr>\n    <tr>\n      <th>46</th>\n      <td>5.0</td>\n      <td>685.0</td>\n      <td>0.516645</td>\n      <td>WinterVacation</td>\n      <td>[4-7]</td>\n      <td>Standard</td>\n      <td>[0-160]</td>\n      <td>[3-4]</td>\n      <td>True</td>\n    </tr>\n    <tr>\n      <th>47</th>\n      <td>5.0</td>\n      <td>350.0</td>\n      <td>0.464971</td>\n      <td>LowSeason</td>\n      <td>[4-7]</td>\n      <td>Nonref</td>\n      <td>[0-160]</td>\n      <td>[2-2]</td>\n      <td>False</td>\n    </tr>\n    <tr>\n      <th>48</th>\n      <td>5.0</td>\n      <td>294.0</td>\n      <td>0.463127</td>\n      <td>LowSeason</td>\n      <td>[4-7]</td>\n      <td>Nonref</td>\n      <td>[0-160]</td>\n      <td>[2-2]</td>\n      <td>True</td>\n    </tr>\n    <tr>\n      <th>49</th>\n      <td>5.0</td>\n      <td>86.0</td>\n      <td>0.444925</td>\n      <td>LowSeason</td>\n      <td>[4-7]</td>\n      <td>Standard</td>\n      <td>[0-160]</td>\n      <td>[2-2]</td>\n      <td>True</td>\n    </tr>\n  </tbody>\n</table>\n</div>"
     },
     "metadata": {},
     "output_type": "display_data"
    }
   ],
   "source": [
    "recommendations = cb_user_item_recommender.recommend(pd.DataFrame([[1], [2], [3], [4], [5]], columns=['user_id']),\n",
    "                                                     input_interactions_df, 10)\n",
    "\n",
    "recommendations = pd.merge(recommendations, items_df, on='item_id', how='left')\n",
    "display(recommendations)"
   ]
  },
  {
   "cell_type": "markdown",
   "id": "advanced-eleven",
   "metadata": {},
   "source": [
    "# Tuning method"
   ]
  },
  {
   "cell_type": "code",
   "id": "stable-theta",
   "metadata": {
    "pycharm": {
     "name": "#%%\n"
    }
   },
   "source": [
    "from evaluation_and_testing.testing import evaluate_train_test_split_implicit\n",
    "from hyperopt import hp, fmin, tpe, Trials\n",
    "import traceback\n",
    "\n",
    "def tune_recommender(recommender_class, interactions_df, items_df,\n",
    "                     param_space, max_evals=1, show_progressbar=True, seed=6789):\n",
    "    # Split into train_validation and test sets\n",
    "\n",
    "    shuffle = np.arange(len(interactions_df))\n",
    "    rng = np.random.RandomState(seed=seed)\n",
    "    rng.shuffle(shuffle)\n",
    "    shuffle = list(shuffle)\n",
    "\n",
    "    train_test_split = 0.8\n",
    "    split_index = int(len(interactions_df) * train_test_split)\n",
    "\n",
    "    train_validation = interactions_df.iloc[shuffle[:split_index]]\n",
    "    test = interactions_df.iloc[shuffle[split_index:]]\n",
    "\n",
    "    # Tune\n",
    "\n",
    "    def loss(tuned_params):\n",
    "        recommender = recommender_class(seed=seed, **tuned_params)\n",
    "        hr1, hr3, hr5, hr10, ndcg1, ndcg3, ndcg5, ndcg10 = evaluate_train_test_split_implicit(\n",
    "            recommender, train_validation, items_df, seed=seed)\n",
    "        return -hr10\n",
    "\n",
    "    n_tries = 1\n",
    "    succeded = False\n",
    "    try_id = 0\n",
    "    while not succeded and try_id < n_tries:\n",
    "        try:\n",
    "            trials = Trials()\n",
    "            best_param_set = fmin(loss, space=param_space, algo=tpe.suggest,\n",
    "                                  max_evals=max_evals, show_progressbar=show_progressbar, trials=trials, verbose=True)\n",
    "            succeded = True\n",
    "        except:\n",
    "            traceback.print_exc()\n",
    "            try_id += 1\n",
    "\n",
    "    if not succeded:\n",
    "        return None\n",
    "\n",
    "    # Validate\n",
    "\n",
    "    recommender = recommender_class(seed=seed, **best_param_set)\n",
    "\n",
    "    results = [[recommender_class.__name__] + list(evaluate_train_test_split_implicit(\n",
    "        recommender, {'train': train_validation, 'test': test}, items_df, seed=seed))]\n",
    "\n",
    "    results = pd.DataFrame(results,\n",
    "                           columns=['Recommender', 'HR@1', 'HR@3', 'HR@5', 'HR@10', 'NDCG@1', 'NDCG@3', 'NDCG@5',\n",
    "                                    'NDCG@10'])\n",
    "\n",
    "    display(results)\n",
    "\n",
    "    return best_param_set"
   ],
   "execution_count": 10,
   "outputs": []
  },
  {
   "cell_type": "markdown",
   "id": "spiritual-orbit",
   "metadata": {},
   "source": [
    "## Tuning of the recommender\n",
    "\n",
    "<span style=\"color:red\"><font size=\"4\">**Task:**</font></span><br> \n",
    "Tune your models using the code below. You only need to put the class name of your recommender and choose an appropriate parameter space."
   ]
  },
  {
   "cell_type": "code",
   "execution_count": 11,
   "id": "dependent-capital",
   "metadata": {},
   "outputs": [
    {
     "name": "stdout",
     "output_type": "stream",
     "text": [
      "100%|██████████| 80/80 [1:25:10<00:00, 63.88s/trial, best loss: -0.2293694456199746]\n"
     ]
    },
    {
     "data": {
      "text/plain": "                       Recommender      HR@1      HR@3      HR@5     HR@10  \\\n0  LinearRegressionCBUIRecommender  0.049219  0.130007  0.174134  0.235234   \n\n     NDCG@1    NDCG@3    NDCG@5   NDCG@10  \n0  0.049219  0.094502  0.113016  0.132582  ",
      "text/html": "<div>\n<style scoped>\n    .dataframe tbody tr th:only-of-type {\n        vertical-align: middle;\n    }\n\n    .dataframe tbody tr th {\n        vertical-align: top;\n    }\n\n    .dataframe thead th {\n        text-align: right;\n    }\n</style>\n<table border=\"1\" class=\"dataframe\">\n  <thead>\n    <tr style=\"text-align: right;\">\n      <th></th>\n      <th>Recommender</th>\n      <th>HR@1</th>\n      <th>HR@3</th>\n      <th>HR@5</th>\n      <th>HR@10</th>\n      <th>NDCG@1</th>\n      <th>NDCG@3</th>\n      <th>NDCG@5</th>\n      <th>NDCG@10</th>\n    </tr>\n  </thead>\n  <tbody>\n    <tr>\n      <th>0</th>\n      <td>LinearRegressionCBUIRecommender</td>\n      <td>0.049219</td>\n      <td>0.130007</td>\n      <td>0.174134</td>\n      <td>0.235234</td>\n      <td>0.049219</td>\n      <td>0.094502</td>\n      <td>0.113016</td>\n      <td>0.132582</td>\n    </tr>\n  </tbody>\n</table>\n</div>"
     },
     "metadata": {},
     "output_type": "display_data"
    },
    {
     "name": "stdout",
     "output_type": "stream",
     "text": [
      "Best parameters:\n",
      "{'n_most_popular_items': 3.0, 'n_neg_per_pos': 1.0}\n"
     ]
    }
   ],
   "source": [
    "param_space = {\n",
    "    'n_neg_per_pos': hp.quniform('n_neg_per_pos', 1, 10, 1),\n",
    "    'n_most_popular_items': hp.quniform('n_most_popular_items', 1, 8, 1)\n",
    "}\n",
    "\n",
    "linear_best_param_set = tune_recommender(LinearRegressionCBUIRecommender, input_interactions_df, items_df,\n",
    "                                  param_space, max_evals=80, show_progressbar=True, seed=seed)\n",
    "\n",
    "print(\"Best parameters:\")\n",
    "print(linear_best_param_set)"
   ]
  },
  {
   "cell_type": "code",
   "execution_count": null,
   "id": "palestinian-clearance",
   "metadata": {
    "pycharm": {
     "is_executing": true
    }
   },
   "outputs": [
    {
     "name": "stdout",
     "output_type": "stream",
     "text": [
      "  0%|          | 0/100 [00:00<?, ?trial/s, best loss=?]"
     ]
    }
   ],
   "source": [
    "param_space = {\n",
    "    'n_neg_per_pos': hp.quniform('n_neg_per_pos', 1, 10, 1),\n",
    "    'C': hp.loguniform('C', np.log(0.01), np.log(100.0))\n",
    "}\n",
    "\n",
    "svr_best_param_set = tune_recommender(SVRCBUIRecommender, input_interactions_df, items_df,\n",
    "                                  param_space, max_evals=100, show_progressbar=True, seed=seed)\n",
    "\n",
    "print(\"Best parameters:\")\n",
    "print(svr_best_param_set)"
   ]
  },
  {
   "cell_type": "code",
   "execution_count": 150,
   "id": "seasonal-header",
   "metadata": {},
   "outputs": [
    {
     "name": "stdout",
     "output_type": "stream",
     "text": [
      "100%|██████████| 100/100 [2:41:05<00:00, 96.65s/trial, best loss: -0.047820567075751164]  \n"
     ]
    },
    {
     "data": {
      "text/plain": "                   Recommender      HR@1      HR@3      HR@5     HR@10  \\\n0  RandomForestCBUIRecommender  0.002037  0.010523  0.015614  0.026477   \n\n     NDCG@1    NDCG@3    NDCG@5   NDCG@10  \n0  0.002037  0.007257  0.009346  0.012833  ",
      "text/html": "<div>\n<style scoped>\n    .dataframe tbody tr th:only-of-type {\n        vertical-align: middle;\n    }\n\n    .dataframe tbody tr th {\n        vertical-align: top;\n    }\n\n    .dataframe thead th {\n        text-align: right;\n    }\n</style>\n<table border=\"1\" class=\"dataframe\">\n  <thead>\n    <tr style=\"text-align: right;\">\n      <th></th>\n      <th>Recommender</th>\n      <th>HR@1</th>\n      <th>HR@3</th>\n      <th>HR@5</th>\n      <th>HR@10</th>\n      <th>NDCG@1</th>\n      <th>NDCG@3</th>\n      <th>NDCG@5</th>\n      <th>NDCG@10</th>\n    </tr>\n  </thead>\n  <tbody>\n    <tr>\n      <th>0</th>\n      <td>RandomForestCBUIRecommender</td>\n      <td>0.002037</td>\n      <td>0.010523</td>\n      <td>0.015614</td>\n      <td>0.026477</td>\n      <td>0.002037</td>\n      <td>0.007257</td>\n      <td>0.009346</td>\n      <td>0.012833</td>\n    </tr>\n  </tbody>\n</table>\n</div>"
     },
     "metadata": {},
     "output_type": "display_data"
    },
    {
     "name": "stdout",
     "output_type": "stream",
     "text": [
      "Best parameters:\n",
      "{'max_depth': 3.0, 'min_samples_split': 9.0, 'n_estimators': 141.0, 'n_neg_per_pos': 1.0}\n",
      "Stored 'random_forest_best_param_set' (dict)\n"
     ]
    }
   ],
   "source": [
    "param_space = {\n",
    "    'n_neg_per_pos': hp.quniform('n_neg_per_pos', 1, 10, 1),\n",
    "    'n_estimators': hp.quniform('n_estimators', 30, 300, 1),\n",
    "    'max_depth': hp.quniform('max_depth', 2, 10, 1),\n",
    "    'min_samples_split': hp.quniform('min_samples_split', 2, 30, 1)\n",
    "}\n",
    "\n",
    "random_forest_best_param_set = tune_recommender(RandomForestCBUIRecommender, input_interactions_df, items_df,\n",
    "                                  param_space, max_evals=100, show_progressbar=True, seed=seed)\n",
    "\n",
    "print(\"Best parameters:\")\n",
    "print(random_forest_best_param_set)"
   ]
  },
  {
   "cell_type": "code",
   "execution_count": 151,
   "id": "moved-gothic",
   "metadata": {},
   "outputs": [
    {
     "name": "stdout",
     "output_type": "stream",
     "text": [
      "100%|██████████| 300/300 [6:27:38<00:00, 77.53s/trial, best loss: -0.058823529411764705]  \n"
     ]
    },
    {
     "data": {
      "text/plain": "              Recommender      HR@1     HR@3     HR@5     HR@10    NDCG@1  \\\n0  XGBoostCBUIRecommender  0.014257  0.03666  0.04888  0.073999  0.014257   \n\n     NDCG@3    NDCG@5   NDCG@10  \n0  0.027547  0.032721  0.040834  ",
      "text/html": "<div>\n<style scoped>\n    .dataframe tbody tr th:only-of-type {\n        vertical-align: middle;\n    }\n\n    .dataframe tbody tr th {\n        vertical-align: top;\n    }\n\n    .dataframe thead th {\n        text-align: right;\n    }\n</style>\n<table border=\"1\" class=\"dataframe\">\n  <thead>\n    <tr style=\"text-align: right;\">\n      <th></th>\n      <th>Recommender</th>\n      <th>HR@1</th>\n      <th>HR@3</th>\n      <th>HR@5</th>\n      <th>HR@10</th>\n      <th>NDCG@1</th>\n      <th>NDCG@3</th>\n      <th>NDCG@5</th>\n      <th>NDCG@10</th>\n    </tr>\n  </thead>\n  <tbody>\n    <tr>\n      <th>0</th>\n      <td>XGBoostCBUIRecommender</td>\n      <td>0.014257</td>\n      <td>0.03666</td>\n      <td>0.04888</td>\n      <td>0.073999</td>\n      <td>0.014257</td>\n      <td>0.027547</td>\n      <td>0.032721</td>\n      <td>0.040834</td>\n    </tr>\n  </tbody>\n</table>\n</div>"
     },
     "metadata": {},
     "output_type": "display_data"
    },
    {
     "name": "stdout",
     "output_type": "stream",
     "text": [
      "Best parameters:\n",
      "{'learning_rate': 0.09880843325335834, 'max_depth': 3.0, 'min_samples_split': 14.0, 'n_estimators': 298.0, 'n_neg_per_pos': 10.0}\n",
      "Stored 'xg_boost_best_param_set' (dict)\n"
     ]
    }
   ],
   "source": [
    "# This tuning may take around 12 hours\n",
    "\n",
    "param_space = {\n",
    "    'n_neg_per_pos': hp.quniform('n_neg_per_pos', 1, 10, 1),\n",
    "    'n_estimators': hp.quniform('n_estimators', 10, 300, 1),\n",
    "    'max_depth': hp.quniform('max_depth', 2, 10, 1),\n",
    "    'min_samples_split': hp.quniform('min_samples_split', 2, 30, 1),\n",
    "    'learning_rate': hp.loguniform('learning_rate', np.log(0.001), np.log(0.1))\n",
    "}\n",
    "\n",
    "xg_boost_best_param_set = tune_recommender(XGBoostCBUIRecommender, input_interactions_df, items_df,\n",
    "                                  param_space, max_evals=300, show_progressbar=True, seed=seed)\n",
    "\n",
    "print(\"Best parameters:\")\n",
    "print(xg_boost_best_param_set)"
   ]
  },
  {
   "cell_type": "markdown",
   "id": "accredited-strap",
   "metadata": {},
   "source": [
    "# Final evaluation\n",
    "\n",
    "<span style=\"color:red\"><font size=\"4\">**Task:**</font></span><br> \n",
    "Run the final evaluation of your recommender and present its results against the Amazon recommender's results. You can present results for several of your recommenders. You just need to give the class name of your recommender and its tuned parameters below. If you present results for several recommenders, you should add a separate cell for each recommender and change the names of the DataFrames containing results."
   ]
  },
  {
   "cell_type": "code",
   "execution_count": 12,
   "id": "given-homework",
   "metadata": {},
   "outputs": [
    {
     "data": {
      "text/plain": "                       Recommender      HR@1      HR@3      HR@5     HR@10  \\\n0  LinearRegressionCBUIRecommender  0.049219  0.130007  0.174134  0.235234   \n\n     NDCG@1    NDCG@3    NDCG@5   NDCG@10  \n0  0.049219  0.094502  0.113016  0.132582  ",
      "text/html": "<div>\n<style scoped>\n    .dataframe tbody tr th:only-of-type {\n        vertical-align: middle;\n    }\n\n    .dataframe tbody tr th {\n        vertical-align: top;\n    }\n\n    .dataframe thead th {\n        text-align: right;\n    }\n</style>\n<table border=\"1\" class=\"dataframe\">\n  <thead>\n    <tr style=\"text-align: right;\">\n      <th></th>\n      <th>Recommender</th>\n      <th>HR@1</th>\n      <th>HR@3</th>\n      <th>HR@5</th>\n      <th>HR@10</th>\n      <th>NDCG@1</th>\n      <th>NDCG@3</th>\n      <th>NDCG@5</th>\n      <th>NDCG@10</th>\n    </tr>\n  </thead>\n  <tbody>\n    <tr>\n      <th>0</th>\n      <td>LinearRegressionCBUIRecommender</td>\n      <td>0.049219</td>\n      <td>0.130007</td>\n      <td>0.174134</td>\n      <td>0.235234</td>\n      <td>0.049219</td>\n      <td>0.094502</td>\n      <td>0.113016</td>\n      <td>0.132582</td>\n    </tr>\n  </tbody>\n</table>\n</div>"
     },
     "metadata": {},
     "output_type": "display_data"
    }
   ],
   "source": [
    "linear_best_param_set = { 'n_most_popular_items': 3.0, 'n_neg_per_pos': 1.0 }\n",
    "cb_user_item_recommender = LinearRegressionCBUIRecommender(seed=seed, **linear_best_param_set)\n",
    "\n",
    "linear_cbui_tts_results = [['LinearRegressionCBUIRecommender'] + list(evaluate_train_test_split_implicit(\n",
    "    cb_user_item_recommender, input_interactions_df, items_df))]\n",
    "\n",
    "linear_cbui_tts_results = pd.DataFrame(\n",
    "    linear_cbui_tts_results,\n",
    "    columns=['Recommender', 'HR@1', 'HR@3', 'HR@5', 'HR@10', 'NDCG@1', 'NDCG@3', 'NDCG@5', 'NDCG@10'])\n",
    "\n",
    "display(linear_cbui_tts_results)"
   ]
  },
  {
   "cell_type": "code",
   "execution_count": 13,
   "id": "suited-nomination",
   "metadata": {},
   "outputs": [
    {
     "data": {
      "text/plain": "         Recommender      HR@1      HR@3      HR@5     HR@10    NDCG@1  \\\n0  AmazonRecommender  0.044128  0.118805  0.160557  0.223693  0.044128   \n\n     NDCG@3    NDCG@5   NDCG@10  \n0  0.086755  0.104216  0.124468  ",
      "text/html": "<div>\n<style scoped>\n    .dataframe tbody tr th:only-of-type {\n        vertical-align: middle;\n    }\n\n    .dataframe tbody tr th {\n        vertical-align: top;\n    }\n\n    .dataframe thead th {\n        text-align: right;\n    }\n</style>\n<table border=\"1\" class=\"dataframe\">\n  <thead>\n    <tr style=\"text-align: right;\">\n      <th></th>\n      <th>Recommender</th>\n      <th>HR@1</th>\n      <th>HR@3</th>\n      <th>HR@5</th>\n      <th>HR@10</th>\n      <th>NDCG@1</th>\n      <th>NDCG@3</th>\n      <th>NDCG@5</th>\n      <th>NDCG@10</th>\n    </tr>\n  </thead>\n  <tbody>\n    <tr>\n      <th>0</th>\n      <td>AmazonRecommender</td>\n      <td>0.044128</td>\n      <td>0.118805</td>\n      <td>0.160557</td>\n      <td>0.223693</td>\n      <td>0.044128</td>\n      <td>0.086755</td>\n      <td>0.104216</td>\n      <td>0.124468</td>\n    </tr>\n  </tbody>\n</table>\n</div>"
     },
     "metadata": {},
     "output_type": "display_data"
    }
   ],
   "source": [
    "from recommenders.amazon_recommender import AmazonRecommender\n",
    "\n",
    "amazon_recommender = AmazonRecommender()\n",
    "\n",
    "amazon_tts_results = [['AmazonRecommender'] + list(evaluate_train_test_split_implicit(\n",
    "    amazon_recommender, input_interactions_df, items_df))]\n",
    "\n",
    "amazon_tts_results = pd.DataFrame(\n",
    "    amazon_tts_results,\n",
    "    columns=['Recommender', 'HR@1', 'HR@3', 'HR@5', 'HR@10', 'NDCG@1', 'NDCG@3', 'NDCG@5', 'NDCG@10'])\n",
    "\n",
    "display(amazon_tts_results)"
   ]
  },
  {
   "cell_type": "code",
   "execution_count": 14,
   "outputs": [
    {
     "data": {
      "text/plain": "                   Recommender      HR@1      HR@3      HR@5     HR@10  \\\n0  RandomForestCBUIRecommender  0.001697  0.013917  0.025798  0.039036   \n\n     NDCG@1    NDCG@3    NDCG@5   NDCG@10  \n0  0.001697  0.008741  0.013485  0.017891  ",
      "text/html": "<div>\n<style scoped>\n    .dataframe tbody tr th:only-of-type {\n        vertical-align: middle;\n    }\n\n    .dataframe tbody tr th {\n        vertical-align: top;\n    }\n\n    .dataframe thead th {\n        text-align: right;\n    }\n</style>\n<table border=\"1\" class=\"dataframe\">\n  <thead>\n    <tr style=\"text-align: right;\">\n      <th></th>\n      <th>Recommender</th>\n      <th>HR@1</th>\n      <th>HR@3</th>\n      <th>HR@5</th>\n      <th>HR@10</th>\n      <th>NDCG@1</th>\n      <th>NDCG@3</th>\n      <th>NDCG@5</th>\n      <th>NDCG@10</th>\n    </tr>\n  </thead>\n  <tbody>\n    <tr>\n      <th>0</th>\n      <td>RandomForestCBUIRecommender</td>\n      <td>0.001697</td>\n      <td>0.013917</td>\n      <td>0.025798</td>\n      <td>0.039036</td>\n      <td>0.001697</td>\n      <td>0.008741</td>\n      <td>0.013485</td>\n      <td>0.017891</td>\n    </tr>\n  </tbody>\n</table>\n</div>"
     },
     "metadata": {},
     "output_type": "display_data"
    }
   ],
   "source": [
    "random_forest_best_param_set = {'max_depth': 3.0, 'min_samples_split': 9.0, 'n_estimators': 141.0, 'n_neg_per_pos': 1.0}\n",
    "cb_user_item_recommender = RandomForestCBUIRecommender(seed=seed, **random_forest_best_param_set)\n",
    "\n",
    "random_forest_cbui_tts_results = [['RandomForestCBUIRecommender'] + list(evaluate_train_test_split_implicit(\n",
    "    cb_user_item_recommender, input_interactions_df, items_df))]\n",
    "\n",
    "random_forest_cbui_tts_results = pd.DataFrame(\n",
    "    random_forest_cbui_tts_results,\n",
    "    columns=['Recommender', 'HR@1', 'HR@3', 'HR@5', 'HR@10', 'NDCG@1', 'NDCG@3', 'NDCG@5', 'NDCG@10'])\n",
    "\n",
    "display(random_forest_cbui_tts_results)"
   ],
   "metadata": {
    "collapsed": false,
    "pycharm": {
     "name": "#%%\n"
    }
   }
  },
  {
   "cell_type": "code",
   "execution_count": 15,
   "outputs": [
    {
     "data": {
      "text/plain": "              Recommender      HR@1     HR@3      HR@5     HR@10    NDCG@1  \\\n0  XGBoostCBUIRecommender  0.013917  0.03632  0.046504  0.075017  0.013917   \n\n     NDCG@3    NDCG@5   NDCG@10  \n0  0.027297  0.031519  0.040636  ",
      "text/html": "<div>\n<style scoped>\n    .dataframe tbody tr th:only-of-type {\n        vertical-align: middle;\n    }\n\n    .dataframe tbody tr th {\n        vertical-align: top;\n    }\n\n    .dataframe thead th {\n        text-align: right;\n    }\n</style>\n<table border=\"1\" class=\"dataframe\">\n  <thead>\n    <tr style=\"text-align: right;\">\n      <th></th>\n      <th>Recommender</th>\n      <th>HR@1</th>\n      <th>HR@3</th>\n      <th>HR@5</th>\n      <th>HR@10</th>\n      <th>NDCG@1</th>\n      <th>NDCG@3</th>\n      <th>NDCG@5</th>\n      <th>NDCG@10</th>\n    </tr>\n  </thead>\n  <tbody>\n    <tr>\n      <th>0</th>\n      <td>XGBoostCBUIRecommender</td>\n      <td>0.013917</td>\n      <td>0.03632</td>\n      <td>0.046504</td>\n      <td>0.075017</td>\n      <td>0.013917</td>\n      <td>0.027297</td>\n      <td>0.031519</td>\n      <td>0.040636</td>\n    </tr>\n  </tbody>\n</table>\n</div>"
     },
     "metadata": {},
     "output_type": "display_data"
    }
   ],
   "source": [
    "xg_boost_best_param_set = {'learning_rate': 0.09880843325335834, 'max_depth': 3.0, 'min_samples_split': 14.0, 'n_estimators': 298.0, 'n_neg_per_pos': 10.0}\n",
    "cb_user_item_recommender = XGBoostCBUIRecommender(seed=seed, **xg_boost_best_param_set)\n",
    "\n",
    "xg_boost_cbui_tts_results = [['XGBoostCBUIRecommender'] + list(evaluate_train_test_split_implicit(\n",
    "    cb_user_item_recommender, input_interactions_df, items_df))]\n",
    "\n",
    "xg_boost_cbui_tts_results = pd.DataFrame(\n",
    "    xg_boost_cbui_tts_results,\n",
    "    columns=['Recommender', 'HR@1', 'HR@3', 'HR@5', 'HR@10', 'NDCG@1', 'NDCG@3', 'NDCG@5', 'NDCG@10'])\n",
    "\n",
    "display(xg_boost_cbui_tts_results)"
   ],
   "metadata": {
    "collapsed": false,
    "pycharm": {
     "name": "#%%\n"
    }
   }
  },
  {
   "cell_type": "code",
   "execution_count": 16,
   "id": "moderate-printing",
   "metadata": {
    "pycharm": {
     "name": "#%%\n"
    }
   },
   "outputs": [
    {
     "data": {
      "text/plain": "                       Recommender      HR@1      HR@3      HR@5     HR@10  \\\n0  LinearRegressionCBUIRecommender  0.049219  0.130007  0.174134  0.235234   \n1                AmazonRecommender  0.044128  0.118805  0.160557  0.223693   \n2      RandomForestCBUIRecommender  0.001697  0.013917  0.025798  0.039036   \n3           XGBoostCBUIRecommender  0.013917  0.036320  0.046504  0.075017   \n\n     NDCG@1    NDCG@3    NDCG@5   NDCG@10  \n0  0.049219  0.094502  0.113016  0.132582  \n1  0.044128  0.086755  0.104216  0.124468  \n2  0.001697  0.008741  0.013485  0.017891  \n3  0.013917  0.027297  0.031519  0.040636  ",
      "text/html": "<div>\n<style scoped>\n    .dataframe tbody tr th:only-of-type {\n        vertical-align: middle;\n    }\n\n    .dataframe tbody tr th {\n        vertical-align: top;\n    }\n\n    .dataframe thead th {\n        text-align: right;\n    }\n</style>\n<table border=\"1\" class=\"dataframe\">\n  <thead>\n    <tr style=\"text-align: right;\">\n      <th></th>\n      <th>Recommender</th>\n      <th>HR@1</th>\n      <th>HR@3</th>\n      <th>HR@5</th>\n      <th>HR@10</th>\n      <th>NDCG@1</th>\n      <th>NDCG@3</th>\n      <th>NDCG@5</th>\n      <th>NDCG@10</th>\n    </tr>\n  </thead>\n  <tbody>\n    <tr>\n      <th>0</th>\n      <td>LinearRegressionCBUIRecommender</td>\n      <td>0.049219</td>\n      <td>0.130007</td>\n      <td>0.174134</td>\n      <td>0.235234</td>\n      <td>0.049219</td>\n      <td>0.094502</td>\n      <td>0.113016</td>\n      <td>0.132582</td>\n    </tr>\n    <tr>\n      <th>1</th>\n      <td>AmazonRecommender</td>\n      <td>0.044128</td>\n      <td>0.118805</td>\n      <td>0.160557</td>\n      <td>0.223693</td>\n      <td>0.044128</td>\n      <td>0.086755</td>\n      <td>0.104216</td>\n      <td>0.124468</td>\n    </tr>\n    <tr>\n      <th>2</th>\n      <td>RandomForestCBUIRecommender</td>\n      <td>0.001697</td>\n      <td>0.013917</td>\n      <td>0.025798</td>\n      <td>0.039036</td>\n      <td>0.001697</td>\n      <td>0.008741</td>\n      <td>0.013485</td>\n      <td>0.017891</td>\n    </tr>\n    <tr>\n      <th>3</th>\n      <td>XGBoostCBUIRecommender</td>\n      <td>0.013917</td>\n      <td>0.036320</td>\n      <td>0.046504</td>\n      <td>0.075017</td>\n      <td>0.013917</td>\n      <td>0.027297</td>\n      <td>0.031519</td>\n      <td>0.040636</td>\n    </tr>\n  </tbody>\n</table>\n</div>"
     },
     "metadata": {},
     "output_type": "display_data"
    }
   ],
   "source": [
    "tts_results = pd.concat([linear_cbui_tts_results, amazon_tts_results, random_forest_cbui_tts_results, xg_boost_cbui_tts_results]).reset_index(drop=True)\n",
    "display(tts_results)"
   ]
  },
  {
   "cell_type": "code",
   "execution_count": null,
   "outputs": [],
   "source": [],
   "metadata": {
    "collapsed": false,
    "pycharm": {
     "name": "#%%\n"
    }
   }
  }
 ],
 "metadata": {
  "kernelspec": {
   "display_name": "Python 3 (ipykernel)",
   "language": "python",
   "name": "python3"
  },
  "language_info": {
   "codemirror_mode": {
    "name": "ipython",
    "version": 3
   },
   "file_extension": ".py",
   "mimetype": "text/x-python",
   "name": "python",
   "nbconvert_exporter": "python",
   "pygments_lexer": "ipython3",
   "version": "3.8.10"
  }
 },
 "nbformat": 4,
 "nbformat_minor": 5
}